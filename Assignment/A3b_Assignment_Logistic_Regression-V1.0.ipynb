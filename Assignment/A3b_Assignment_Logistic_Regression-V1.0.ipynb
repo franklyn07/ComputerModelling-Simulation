{
 "cells": [
  {
   "cell_type": "raw",
   "metadata": {},
   "source": []
  },
  {
   "cell_type": "markdown",
   "metadata": {},
   "source": [
    "# Assignment - Logistic Regression\n",
    "### Year 2017-2018  - Semester II\n",
    "### CCE3501 / CCE3502\n",
    "#### Originally devloped by - Adrian Muscat, 2018\n",
    "---\n",
    "# Write Your NAME, ID and CLASS here\n",
    "# e.g John Burger, 657698M, BSc CS, Yr II\n",
    "---\n",
    "\n",
    "\n"
   ]
  },
  {
   "cell_type": "markdown",
   "metadata": {},
   "source": [
    "A system measures the width and length in centimetres of two fish species, spnott and awrat.  The results are given in a csv (comma separated) text file. In this assignment you will develop a linear discriminant function and a logistic regressor that model the data. \n",
    "\n",
    "\n",
    "We first load the dataset and print the first 10 entries to get a handle on the data. The length is given in the 1st column, the width is given in the second column and the species is given in the third column.\n",
    "\n",
    "What is the size of the dataset and the class distribution?\n",
    "\n",
    "Plot a scatter-plot that depicts type_A as a blue dot and type_B as a red dot.\n",
    "As you can see we have to use both input variables, since any variable on its own does not provide enough discrimination power.\n",
    "\n",
    "Check whether the two input variables are correlated.\n",
    "\n",
    "We will now split the dataset into two parts. One part is called the training set and the other part is called the test set.\n",
    "\n",
    "Plot a scatter-plot for the training set and on the same plot add a green line and randomly optimise the gradient and intercept coefficients to minimize the overall classification error.\n",
    "\n",
    "Repeat above optimisation to balance the classification error in each class.\n",
    "\n",
    "Code the gradient descent algorithm to minimize the cross-entropy cost function in a logistic regression model\n",
    "\n",
    "What is the overall classification rate and the class classification rate\n",
    "\n",
    "CCE3501 only \n",
    "Compare these results with the ones obtained with the random search in task 3."
   ]
  },
  {
   "cell_type": "code",
   "execution_count": 3,
   "metadata": {},
   "outputs": [
    {
     "name": "stdout",
     "output_type": "stream",
     "text": [
      "\n"
     ]
    }
   ],
   "source": [
    "# import useful libraries\n",
    "import numpy as np\n",
    "import matplotlib.pyplot as plt\n",
    "import scipy.stats as stats\n",
    "import random\n",
    "import csv\n",
    "# this line plots graphs in line\n",
    "%matplotlib inline"
   ]
  },
  {
   "cell_type": "markdown",
   "metadata": {},
   "source": [
    "## We first load the dataset and print the first 10 entries.  The length is given in the 1st column, the width is given in the second column and the species is given in the third column.\n"
   ]
  },
  {
   "cell_type": "code",
   "execution_count": 4,
   "metadata": {},
   "outputs": [
    {
     "name": "stdout",
     "output_type": "stream",
     "text": [
      "['Length', ' Width', ' Class(0=spnott', ' 1=awrat)']\n"
     ]
    },
    {
     "data": {
      "text/plain": [
       "array([[ 30.14,  10.27,   1.  ],\n",
       "       [ 18.28,   7.5 ,   1.  ],\n",
       "       [ 41.39,  10.04,   0.  ],\n",
       "       [ 19.19,   7.7 ,   1.  ],\n",
       "       [ 40.22,  13.07,   0.  ],\n",
       "       [ 31.63,  14.27,   1.  ],\n",
       "       [ 37.43,   9.29,   0.  ],\n",
       "       [ 17.11,   6.8 ,   1.  ],\n",
       "       [ 39.5 ,  11.47,   0.  ],\n",
       "       [ 29.22,  13.18,   1.  ]])"
      ]
     },
     "execution_count": 4,
     "metadata": {},
     "output_type": "execute_result"
    }
   ],
   "source": [
    "# DO NOT MODIFY THIS CELL\n",
    "with open('Fish_Dataset.csv', 'rbU') as f:\n",
    "    reader = csv.reader(f)\n",
    "    data_=[]\n",
    "    for i,row in enumerate(reader):\n",
    "        if i<2 or i==3:\n",
    "            if i==0: print row\n",
    "        else:\n",
    "            data_.append(row)\n",
    "data = np.array(data_,dtype=float)\n",
    "data[0:10]"
   ]
  },
  {
   "cell_type": "markdown",
   "metadata": {},
   "source": [
    "## What is the size of the dataset and the class distribution?\n"
   ]
  },
  {
   "cell_type": "code",
   "execution_count": 15,
   "metadata": {},
   "outputs": [
    {
     "name": "stdout",
     "output_type": "stream",
     "text": [
      "Size of DataSet:  198\n",
      "Awrat =  100.0\n",
      "Spnott =  98.0\n"
     ]
    },
    {
     "data": {
      "image/png": "[encoded data removed]",
      "text/plain": [
       "<matplotlib.figure.Figure at 0x7f8ebb0c5b90>"
      ]
     },
     "metadata": {},
     "output_type": "display_data"
    }
   ],
   "source": [
    "awrat = 0.0\n",
    "spnott = 0.0\n",
    "distribution = []\n",
    "\n",
    "print \"Size of DataSet: \", len(data)\n",
    "\n",
    "for row in data:\n",
    "    distribution.append(row[2])\n",
    "    if row[2] == 1:\n",
    "        awrat+=1;\n",
    "    else:\n",
    "        spnott+=1;\n",
    "        \n",
    "print \"Awrat = \", awrat\n",
    "print \"Spnott = \", spnott\n",
    "\n",
    "plt.hist(distribution, bins = [0,1,2])\n",
    "plt.title(\"Fish\")\n",
    "plt.xlabel(\"Value: 0-1 = Spnott | 1-2 = Awrat\")\n",
    "plt.ylabel(\"Frequency\")\n",
    "plt.show()\n"
   ]
  },
  {
   "cell_type": "markdown",
   "metadata": {},
   "source": [
    "## Plot a scatter-plot that depicts spnott as a blue dot and awrat as a red dot. As you will see we have to use both input variables, since any variable on its own does not provide enough discrimination power.\n"
   ]
  },
  {
   "cell_type": "code",
   "execution_count": 39,
   "metadata": {},
   "outputs": [
    {
     "data": {
      "image/png": "[encoded data removed]",
      "text/plain": [
       "<matplotlib.figure.Figure at 0x7f2597546e10>"
      ]
     },
     "metadata": {},
     "output_type": "display_data"
    }
   ],
   "source": [
    "def printScatterPlot(limit):\n",
    "    awrata_feature1 = []\n",
    "    awrata_feature2 = []\n",
    "\n",
    "    spnott_feature1 = []\n",
    "    spnott_feature2 = []\n",
    "    \n",
    "    i = 0\n",
    "    \n",
    "    for row in data:\n",
    "        if i<=limit:\n",
    "            if row[2] == 1:\n",
    "                awrata_feature1.append(row[0])\n",
    "                awrata_feature2.append(row[1])\n",
    "            else:\n",
    "                spnott_feature1.append(row[0])\n",
    "                spnott_feature2.append(row[1])\n",
    "            i+=1\n",
    "        else:\n",
    "            break\n",
    "\n",
    "    plt.plot(spnott_feature1, spnott_feature2, 'bo')\n",
    "    plt.plot(awrata_feature1, awrata_feature2, 'ro')\n",
    "    plt.axis([0, 50, 0, 20])\n",
    "\n",
    "printScatterPlot(len(data))\n",
    "plt.show()"
   ]
  },
  {
   "cell_type": "markdown",
   "metadata": {},
   "source": [
    "## Comment on whether the two input variables are correlated.\n"
   ]
  },
  {
   "cell_type": "code",
   "execution_count": 40,
   "metadata": {},
   "outputs": [
    {
     "name": "stdout",
     "output_type": "stream",
     "text": [
      "Positively Correlated!\n"
     ]
    }
   ],
   "source": [
    "data_first_col = []\n",
    "data_second_col = []\n",
    "\n",
    "for row in data:\n",
    "    data_first_col.append(row[0])\n",
    "    data_second_col.append(row[1])\n",
    "   \n",
    "corr_level = np.corrcoef(data_first_col,data_second_col)\n",
    "\n",
    "if(corr_level[0][1]>0.05):\n",
    "    print \"Positively Correlated!\"\n",
    "elif(corr_level[0][1]<-0.05):\n",
    "    print \"Negatively Correlated!\"\n",
    "else:\n",
    "    print \"Weak to No Correlation!\""
   ]
  },
  {
   "cell_type": "markdown",
   "metadata": {},
   "source": [
    "## We will now split the dataset into two parts. One part is called the training set and the other part is called the test set.\n"
   ]
  },
  {
   "cell_type": "code",
   "execution_count": 41,
   "metadata": {},
   "outputs": [
    {
     "name": "stdout",
     "output_type": "stream",
     "text": [
      "Split dataset at  138\n",
      "Shape of train =  (138, 3)\n",
      "Shape of test =  (60, 3)\n"
     ]
    }
   ],
   "source": [
    "# DO NOT MODIFY THIS CELL\n",
    "train_split = int(len(data)*0.7)\n",
    "print 'Split dataset at ', train_split\n",
    "d_train=np.array(data[0:train_split,:])\n",
    "d_test = np.array(data[train_split:,:])\n",
    "print 'Shape of train = ',np.shape(d_train)\n",
    "print 'Shape of test = ',np.shape(d_test)"
   ]
  },
  {
   "cell_type": "markdown",
   "metadata": {},
   "source": [
    "## Plot a scatter-plot for the training set and on the same plot add a green line and randomly optimise the gradient and intercept coefficients to minimize the overall classification error.Repeat  optimisation to maximize the overall classification error.\n"
   ]
  },
  {
   "cell_type": "code",
   "execution_count": 150,
   "metadata": {},
   "outputs": [
    {
     "name": "stdout",
     "output_type": "stream",
     "text": [
      "Randomly Generated Boundary, To Minimise Classification Error:\n"
     ]
    },
    {
     "data": {
      "image/png": "[encoded data removed]",
      "text/plain": [
       "<matplotlib.figure.Figure at 0x7f2597091b10>"
      ]
     },
     "metadata": {},
     "output_type": "display_data"
    },
    {
     "name": "stdout",
     "output_type": "stream",
     "text": [
      "Randomly Generated Boundary, To Maximise Classification Error:\n",
      "Note that the first graph would have a greater percentage error since there will be 100 bad\n",
      "predictions, compared to the 98 bad predictions of the second graph.\n"
     ]
    },
    {
     "data": {
      "image/png": "[encoded data removed]",
      "text/plain": [
       "<matplotlib.figure.Figure at 0x7f25971a2710>"
      ]
     },
     "metadata": {},
     "output_type": "display_data"
    },
    {
     "data": {
      "image/png": "[encoded data removed]",
      "text/plain": [
       "<matplotlib.figure.Figure at 0x7f259746f6d0>"
      ]
     },
     "metadata": {},
     "output_type": "display_data"
    }
   ],
   "source": [
    "# x_axis = []\n",
    "\n",
    "# for i in range(0,50):\n",
    "#     x_axis.append(i)\n",
    "\n",
    "# printScatterPlot(train_split)\n",
    "\n",
    "# def find_error(random1,random2):\n",
    "#     error_count = 0\n",
    "#     for row in data:\n",
    "#         if np.add(np.multiply(row[0], random1),random2) < row[1] :\n",
    "#             if row[2] == 0:\n",
    "#                 error_count+=1\n",
    "#         elif np.add(np.multiply(row[0], random1),random2) >= row[1] :\n",
    "#             if row[2] == 1:\n",
    "#                 error_count+=1\n",
    "#     error_count = (error_count*1.0 / len(data))*100.0\n",
    "#     return error_count\n",
    "\n",
    "# def prod_random_nums():\n",
    "#     number_1 = random.uniform(0,1)*1.0\n",
    "#     number_2 = random.uniform(-6,-3)*1.0\n",
    "#     return number_1,number_2\n",
    "\n",
    "# iterations = 0\n",
    "\n",
    "# while True:\n",
    "#     random1, random2 = prod_random_nums()\n",
    "#     error = find_error(random1,random2)\n",
    "#     if error <3:\n",
    "#         print (error /100) * len(data)\n",
    "#         print iterations\n",
    "#         plt.plot(x_axis, np.add(np.multiply(x_axis, random1),random2), color='green')\n",
    "#         print random1\n",
    "#         print random2\n",
    "#         plt.show()\n",
    "#         break\n",
    "#     iterations+=1\n",
    "\n",
    "x_axis = []\n",
    "\n",
    "for i in range(0,50):\n",
    "    x_axis.append(i)\n",
    "\n",
    "print \"Randomly Generated Boundary, To Minimise Classification Error:\"    \n",
    "printScatterPlot(train_split)\n",
    "plt.grid(color='y', linestyle='-', linewidth=0.5)\n",
    "plt.plot(x_axis, np.add(np.multiply(x_axis, 0.5),-5), color='green')\n",
    "plt.show()\n",
    "\n",
    "print \"Randomly Generated Boundary, To Maximise Classification Error:\"\n",
    "print \"Note that the first graph would have a greater percentage error since there will be 100 bad\"\n",
    "print \"predictions, compared to the 98 bad predictions of the second graph.\"\n",
    "printScatterPlot(train_split)\n",
    "plt.grid(color='y', linestyle='-', linewidth=0.5)\n",
    "plt.plot(x_axis, np.add(np.multiply(x_axis, 0.5),1), color='green')\n",
    "plt.show()\n",
    "printScatterPlot(train_split)\n",
    "plt.grid(color='y', linestyle='-', linewidth=0.5)\n",
    "plt.plot(x_axis, np.add(np.multiply(x_axis, 0.5),-12), color='green')\n",
    "plt.show()"
   ]
  },
  {
   "cell_type": "markdown",
   "metadata": {},
   "source": [
    "## Develop a function to predict the class given the weights for a linear discriminant"
   ]
  },
  {
   "cell_type": "code",
   "execution_count": 119,
   "metadata": {},
   "outputs": [],
   "source": [
    "def predict_y(W,D):\n",
    "    predictions = []\n",
    "    for row in D:\n",
    "        z = -W[1] - (W[0]*row[0]) + row[1]\n",
    "        probability = 1.0/(1.0+np.exp(-z))\n",
    "        if probability > 0.5:\n",
    "            predictions.append(1)\n",
    "        else:\n",
    "            predictions.append(0)\n",
    "    return predictions\n",
    "\n",
    "#print predict_y([0.5,-4],d_test)\n",
    "#print \"-------\"\n",
    "#print d_test"
   ]
  },
  {
   "cell_type": "markdown",
   "metadata": {},
   "source": [
    "## Develop a function to calculate the error, given the predicted values and the data set¶"
   ]
  },
  {
   "cell_type": "code",
   "execution_count": 95,
   "metadata": {},
   "outputs": [],
   "source": [
    "def get_error(D,Y):\n",
    "    error_count = 0\n",
    "    counter = 0\n",
    "    for row in D:\n",
    "        if row[2] != Y[counter]:\n",
    "            error_count+=1\n",
    "        counter+=1\n",
    "    percentage_error = (float(error_count)/float(len(D)))*100.0\n",
    "    return percentage_error\n",
    "\n",
    "#print get_error([[0,0,1],[0,0,0],[0,0,0]],[0,0,0])"
   ]
  },
  {
   "cell_type": "markdown",
   "metadata": {},
   "source": [
    "## Develop a function to calculate the classification accuracy, given the predicted values and the data set "
   ]
  },
  {
   "cell_type": "code",
   "execution_count": 130,
   "metadata": {},
   "outputs": [],
   "source": [
    "def get_accuracy(D,Y):\n",
    "    accurate_count = 0\n",
    "    counter = 0\n",
    "    for row in D:\n",
    "        if row[2] == Y[counter]:\n",
    "            accurate_count+=1\n",
    "        counter+=1\n",
    "    percentage_accuracy = (float(accurate_count)/float(len(D)))*100.0\n",
    "    return percentage_accuracy"
   ]
  },
  {
   "cell_type": "markdown",
   "metadata": {},
   "source": [
    "## Use a Monte-Carlo search method (random search) to find the weight vector that minimizes the overall classification error and plot the resulting decision boundary on top of the dataset."
   ]
  },
  {
   "cell_type": "code",
   "execution_count": 97,
   "metadata": {},
   "outputs": [],
   "source": [
    "def set_X_axis():\n",
    "    x_axis = []\n",
    "\n",
    "    for i in range(0,50):\n",
    "        x_axis.append(i)\n",
    "        \n",
    "    return x_axis\n",
    "\n",
    "def prod_random_nums():\n",
    "    gradient = random.uniform(0,1)*1.0\n",
    "    y_intercept = random.uniform(-6,-3)*1.0\n",
    "    return [gradient,y_intercept]\n",
    "\n",
    "#print prod_random_nums()"
   ]
  },
  {
   "cell_type": "code",
   "execution_count": 165,
   "metadata": {},
   "outputs": [
    {
     "data": {
      "image/png": "[encoded data removed]",
      "text/plain": [
       "<matplotlib.figure.Figure at 0x7f25973b3750>"
      ]
     },
     "metadata": {},
     "output_type": "display_data"
    },
    {
     "name": "stdout",
     "output_type": "stream",
     "text": [
      "Iterations Taken To Complete:  186\n",
      "Percentage Error:  1.44927536232 %\n",
      "Boundary Equation: y =  -5.30936186446 + 0.512916626046 x\n"
     ]
    }
   ],
   "source": [
    "def train_MCS():\n",
    "    printScatterPlot(train_split)\n",
    "\n",
    "    iterations = 0\n",
    "\n",
    "    while True:\n",
    "        weights = prod_random_nums()\n",
    "        percentage_error = get_error(d_train,predict_y(weights,d_train))\n",
    "        if percentage_error < 1.45:\n",
    "            plt.plot(x_axis, np.add(np.multiply(set_X_axis(), weights[0]),weights[1]), color='green')\n",
    "            plt.show()\n",
    "            print \"Iterations Taken To Complete: \", iterations\n",
    "            print \"Percentage Error: \", percentage_error,\"%\"\n",
    "            print \"Boundary Equation: y = \",weights[1],\"+\", weights[0],\"x\"\n",
    "            return weights\n",
    "        iterations+=1\n",
    "\n",
    "weights_after_training = train_MCS()"
   ]
  },
  {
   "cell_type": "markdown",
   "metadata": {},
   "source": [
    "## What is the overall classification accuracy and the class classification accuracy on the test set?\n"
   ]
  },
  {
   "cell_type": "code",
   "execution_count": 166,
   "metadata": {},
   "outputs": [
    {
     "name": "stdout",
     "output_type": "stream",
     "text": [
      "Overall Classification Accuracy:  97.4747474747 %\n",
      "Test Classification Accuracy:  95.0 %\n"
     ]
    }
   ],
   "source": [
    "#predict outcome of test set using the trained boundary\n",
    "predictions_test = predict_y(weights_after_training,d_test)\n",
    "\n",
    "#get accuracy using outcome of test\n",
    "test_accuracy = get_accuracy(d_test,predictions_test)\n",
    "\n",
    "#predict outcome of dataset using the trained boundary\n",
    "predictions_overall = predict_y(weights_after_training,data)\n",
    "\n",
    "#get accuracy using outcome of whole dataset\n",
    "overall_accuracy = get_accuracy(data,predictions_overall)\n",
    "\n",
    "print \"Overall Classification Accuracy: \", overall_accuracy, \"%\"\n",
    "print \"Test Classification Accuracy: \", test_accuracy,\"%\""
   ]
  },
  {
   "cell_type": "markdown",
   "metadata": {},
   "source": [
    "\n"
   ]
  },
  {
   "cell_type": "markdown",
   "metadata": {},
   "source": [
    "## The remaining  questions are only for CCE3501 students\n"
   ]
  },
  {
   "cell_type": "markdown",
   "metadata": {},
   "source": [
    "## Code the gradient descent algorithm to minimize the cross-entropy cost function in a logistic regression model. "
   ]
  },
  {
   "cell_type": "code",
   "execution_count": null,
   "metadata": {
    "collapsed": true
   },
   "outputs": [],
   "source": []
  },
  {
   "cell_type": "markdown",
   "metadata": {
    "collapsed": true
   },
   "source": [
    "## Is there any significant difference between the results with the ones obtained with the random search and the results obtained using gradient descent?."
   ]
  },
  {
   "cell_type": "code",
   "execution_count": null,
   "metadata": {
    "collapsed": true
   },
   "outputs": [],
   "source": []
  }
 ],
 "metadata": {
  "kernelspec": {
   "display_name": "Python 2",
   "language": "python",
   "name": "python2"
  },
  "language_info": {
   "codemirror_mode": {
    "name": "ipython",
    "version": 2
   },
   "file_extension": ".py",
   "mimetype": "text/x-python",
   "name": "python",
   "nbconvert_exporter": "python",
   "pygments_lexer": "ipython2",
   "version": "2.7.12"
  }
 },
 "nbformat": 4,
 "nbformat_minor": 1
}
