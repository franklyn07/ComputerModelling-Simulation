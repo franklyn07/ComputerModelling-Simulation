{
 "cells": [
  {
   "cell_type": "markdown",
   "metadata": {},
   "source": [
    "# Assignment - Random Number Generation\n",
    "### Year 2017-2018  - Semester II\n",
    "### CCE3501 / CCE3502\n",
    "#### Originally devloped by - Adrian Muscat, 2018\n",
    "---\n",
    "# Franklyn Sciberras, 0441498M, BSc CS, Yr II\n",
    "---\n",
    "\n",
    "\n"
   ]
  },
  {
   "cell_type": "markdown",
   "metadata": {},
   "source": [
    "It is desired to generate random numbers from the continuous distribution function given by,\n",
    "\n",
    "$$f(x) = sin(π x)$$\n",
    "\n",
    "defined over the interval $(0 ≤ x < 1)$.  "
   ]
  },
  {
   "cell_type": "code",
   "execution_count": 5,
   "metadata": {},
   "outputs": [],
   "source": [
    "# import useful libraries\n",
    "import numpy as np\n",
    "import matplotlib.pyplot as plt\n",
    "import scipy.stats as stats\n",
    "# this line plots graphs in line\n",
    "%matplotlib inline"
   ]
  },
  {
   "cell_type": "markdown",
   "metadata": {
    "collapsed": true
   },
   "source": [
    "Throughout this assignment use the function\n",
    "\n",
    "np.random.rand( )\n",
    "\n",
    "to generate random numbers in the range [0.0,1.0)"
   ]
  },
  {
   "cell_type": "code",
   "execution_count": 6,
   "metadata": {},
   "outputs": [
    {
     "name": "stdout",
     "output_type": "stream",
     "text": [
      "0.157983539773\n",
      "[ 0.34548805  0.4174302   0.12850901  0.49748599  0.39139478]\n",
      "[[ 0.38363136  0.93054601  0.80659692]\n",
      " [ 0.41385481  0.19562796  0.72831498]\n",
      " [ 0.83859592  0.13684129  0.14492102]]\n"
     ]
    }
   ],
   "source": [
    "# e.g\n",
    "print np.random.rand() #generates one number\n",
    "print np.random.rand(5)  # generates a vector of 5 numbers\n",
    "print np.random.rand(3,3) # generates 3x3 array of numbers"
   ]
  },
  {
   "cell_type": "markdown",
   "metadata": {},
   "source": [
    "# Task 1:\n",
    "## Develop an algorithm based on the analytical inversion technique to generate random numbers from $f(x)$. \n",
    "### Add your answer in the Markdown cell below"
   ]
  },
  {
   "cell_type": "markdown",
   "metadata": {},
   "source": [
    "<li>(Check that Continuous Distribution is proper).</li>\n",
    "<li>Obtain Cumulative Distribution Function.</li>\n",
    "<li>Obtain Inverse Cumulative Distribution Function.</li>\n",
    "<li>Generate a random value U in the interval of [0,1], from a uniform distribution.</li>\n",
    "<li>Input U in the Inverse Cumulative Distribution Function and return the randomly generated number.</li>"
   ]
  },
  {
   "cell_type": "markdown",
   "metadata": {},
   "source": [
    "# Task 2: \n",
    "## Code the algorithm in Python"
   ]
  },
  {
   "cell_type": "code",
   "execution_count": 7,
   "metadata": {},
   "outputs": [
    {
     "name": "stdout",
     "output_type": "stream",
     "text": [
      "Area of proper function: \n",
      "1.0\n",
      "Constant added to make function proper: \n",
      "1.57079632679\n"
     ]
    }
   ],
   "source": [
    "#Checking continuous distribution for proper property\n",
    "\n",
    "#importing integration function \n",
    "import scipy.integrate as integrate\n",
    "\n",
    "#constant for function is by default 1\n",
    "constant = 1\n",
    "\n",
    "#defining continuous function given\n",
    "def f_x(x):\n",
    "    return constant * np.sin(np.pi*x)\n",
    "\n",
    "#check whether it is a proper function in the given bounds \n",
    "#(if not make it)\n",
    "area, error = integrate.quad(f_x,0,1)\n",
    "\n",
    "if area != 1:\n",
    "    constant = area**-1\n",
    "\n",
    "area2,error2 = integrate.quad(f_x,0,1)\n",
    "\n",
    "print (\"Area of proper function: \")\n",
    "print area2\n",
    "print (\"Constant added to make function proper: \")\n",
    "print constant"
   ]
  },
  {
   "cell_type": "code",
   "execution_count": 8,
   "metadata": {},
   "outputs": [],
   "source": [
    "#Obtaining Cumulative Distribution Function for Proper Distribtuion\n",
    "\n",
    "#Integration of f_x(x) is -0.5cos(pi*x)\n",
    "def integrated_f_x(x):\n",
    "    return -0.5* np.cos(np.pi*x)\n"
   ]
  },
  {
   "cell_type": "code",
   "execution_count": 9,
   "metadata": {},
   "outputs": [],
   "source": [
    "#Obtain Inverse Cumulative Distribution Function for Proper Distirbution\n",
    "\n",
    "#Inverse of Integration of f_x(x) is ±(ArcCos(-2x)/pi)\n",
    "#however this is not within required bounds, and thus we do a time shift\n",
    "#Thus our cdf will be: ±(ArcCos(1-2x)/pi)\n",
    "def inv_integrated_f_x(x):\n",
    "    return np.arccos(1-(2*x))/np.pi"
   ]
  },
  {
   "cell_type": "code",
   "execution_count": 10,
   "metadata": {},
   "outputs": [
    {
     "name": "stdout",
     "output_type": "stream",
     "text": [
      "Random Number Generated using AIM: \n",
      "0.512722604852\n"
     ]
    }
   ],
   "source": [
    "#Generating a random number from distribution, using uniformly distributed random number generator\n",
    "def AIM_generator():\n",
    "    return inv_integrated_f_x(np.random.rand())\n",
    "\n",
    "def print_random():\n",
    "    print (\"Random Number Generated using AIM: \")\n",
    "    print AIM_generator()\n",
    "    \n",
    "print_random()"
   ]
  },
  {
   "cell_type": "markdown",
   "metadata": {},
   "source": [
    "# Task 3:\n",
    "## Using your mathematical algorithm generate 1000 numbers\n",
    "## Plot a histogram that represents the distribution (use 11 bins) \n",
    "## Obtain a goodness of fit statistic for the distribution\n",
    "## Plot a two variable scatter-plot to demonstrate that the numbers are not correlated "
   ]
  },
  {
   "cell_type": "code",
   "execution_count": 11,
   "metadata": {},
   "outputs": [
    {
     "data": {
      "image/png": "[encoded data removed]",
      "text/plain": [
       "<matplotlib.figure.Figure at 0x7f8b96e0f690>"
      ]
     },
     "metadata": {},
     "output_type": "display_data"
    },
    {
     "name": "stdout",
     "output_type": "stream",
     "text": [
      "Chi-Square Value: \n",
      "8.60683582903\n",
      "Critical Value: \n",
      "18.3070380533\n",
      "Hypothesis Accepted: The distributions are similar with a 95% confidence level.\n"
     ]
    }
   ],
   "source": [
    "#Generating 1000 random numbers and storing them in an array\n",
    "def generate_1000_AIM():\n",
    "    random_numbers_gen = []\n",
    "    for i in range (0, 1000):\n",
    "        random_numbers_gen.append(AIM_generator())\n",
    "    return random_numbers_gen\n",
    "\n",
    "#Generating Expected Frequency - 11 times since 11 bins\n",
    "#We use the given function const*sin(pi*x) in order to obtain these\n",
    "#results. (by calculating area with limits, depending on bins req^d)\n",
    "def generate_expected_freq_AIM():\n",
    "    random_numbers_exp = []\n",
    "    lower_lim = 0.0\n",
    "    upper_lim = 0.0\n",
    "    for i in range (0,11):\n",
    "        lower_lim = upper_lim\n",
    "        upper_lim += 1.0/11.0\n",
    "        area, error = integrate.quad(f_x,lower_lim,upper_lim)\n",
    "        random_numbers_exp.append(1000*area)\n",
    "    return random_numbers_exp\n",
    "\n",
    "#Generating Histogram and plotting it\n",
    "generated_list_AIM = generate_1000_AIM()\n",
    "AIM_random_numbers_obs, bins_obs = np.histogram(generated_list_AIM, 11)\n",
    "plt.hist(generated_list_AIM, 11, facecolor='blue', alpha=0.5)\n",
    "plt.title(\"Histogram of Frequency vs Random Numbers Generated\")\n",
    "plt.xlabel(\"Number Generated\")\n",
    "plt.ylabel(\"Frequency\")\n",
    "plt.show()\n",
    "\n",
    "#Calculating Chi Squared Value using : Sum((Observed-Expected)^2/Exp)\n",
    "chi_square_obtained_AIM = 0.0\n",
    "expected_list_AIM = generate_expected_freq_AIM()\n",
    "for i in range(0, len(expected_list_AIM)):\n",
    "    chi_square_obtained_AIM += ((AIM_random_numbers_obs[i] - expected_list_AIM[i])**2)/expected_list_AIM[i]\n",
    "    \n",
    "print (\"Chi-Square Value: \")\n",
    "print chi_square_obtained_AIM\n",
    "\n",
    "#Degrees of freedom are calculated by number of bins - 1, thus df = 10\n",
    "#Calculating Crtical Value to test whether to accept the null hypothesis\n",
    "#aka. both distributions are the same\n",
    "critical_val = stats.chi2.ppf(q = 0.95, df = 10)\n",
    "\n",
    "print (\"Critical Value: \")\n",
    "print critical_val\n",
    "\n",
    "#Checking whether to accept the hypothesis or not\n",
    "if chi_square_obtained_AIM > critical_val:\n",
    "    print(\"Hypothesis Rejected: The distributions are not similar.\")\n",
    "else:\n",
    "    print(\"Hypothesis Accepted: The distributions are similar with a 95% confidence level.\")"
   ]
  },
  {
   "cell_type": "code",
   "execution_count": 14,
   "metadata": {},
   "outputs": [
    {
     "name": "stdout",
     "output_type": "stream",
     "text": [
      "Level of Correlation Between Observed and Expected:  0.0368273007524\n",
      "Not correlated\n"
     ]
    },
    {
     "data": {
      "image/png": "[encoded data removed]",
      "text/plain": [
       "<matplotlib.figure.Figure at 0x7f8b96c15590>"
      ]
     },
     "metadata": {},
     "output_type": "display_data"
    }
   ],
   "source": [
    "#Checking Correlation between two generations using Pearson Correlation\n",
    "def shifting_gen_list(arraylist):\n",
    "    array = []\n",
    "    i = 0\n",
    "    array.append(arraylist[len(arraylist)-1])\n",
    "    while i < len(arraylist) - 1:\n",
    "        array.append(arraylist[i])\n",
    "        i+=1\n",
    "    return array\n",
    "\n",
    "generated_list_AIM_2 = shifting_gen_list(generated_list_AIM)\n",
    "coeff, two_tailed_p = stats.pearsonr(generated_list_AIM, generated_list_AIM_2)\n",
    "\n",
    "print \"Level of Correlation Between Observed and Expected: \" , coeff\n",
    "\n",
    "if coeff > 0.25:\n",
    "    print \"Positively correlated\"\n",
    "elif coeff< -0.25 :\n",
    "    print \"Negatively correlated\"\n",
    "else:\n",
    "    print \"Not correlated\"\n",
    "\n",
    "#Plotting Scatter Plot\n",
    "plt.scatter(generated_list_AIM,generated_list_AIM_2)\n",
    "plt.show()"
   ]
  },
  {
   "cell_type": "markdown",
   "metadata": {},
   "source": [
    "# Task 4:\n",
    "## Write down  an algorithm (in pseudo code) based on the accept-reject method to generate random numbers described by $f(x)$. \n",
    "### Add your answer below in the Markdown cell below"
   ]
  },
  {
   "cell_type": "markdown",
   "metadata": {},
   "source": [
    "<li>(Check that Continuous Distribution is proper).</li>\n",
    "<li>Define a function h where h(t) > f(t) and max of h(t)=m (y is the proper distribution).</li>\n",
    "<li>i) Generate a random value U in the given range, using a uniform distribution.</li>\n",
    "<li>ii) Generate a random value V in the interval of [0,m], using a uniform distribution</li>\n",
    "<li>ii) Input U in the distribtuion y. If V < f(U), accept U, else go to i) and repeat.</li>"
   ]
  },
  {
   "cell_type": "markdown",
   "metadata": {},
   "source": [
    "# Task 5:\n",
    "## Code the algorithm in Python"
   ]
  },
  {
   "cell_type": "code",
   "execution_count": 10,
   "metadata": {},
   "outputs": [
    {
     "name": "stdout",
     "output_type": "stream",
     "text": [
      "0.54885816738\n"
     ]
    }
   ],
   "source": [
    "#uses accept-reject method to generate random numbers\n",
    "def ARM_generator():\n",
    "    #since our function oscillates between 0 and 1 in the range of 0 and 0 and pi/2\n",
    "    m = 2\n",
    "    h_x = m\n",
    "    while(True):\n",
    "        U = np.random.rand()\n",
    "        V = np.random.rand() * m\n",
    "        generated = f_x(U)\n",
    "        if V < generated:\n",
    "            return U\n",
    "        \n",
    "print ARM_generator()"
   ]
  },
  {
   "cell_type": "markdown",
   "metadata": {},
   "source": [
    "# Task 6\n",
    "## Using your accept-reject algorithm generate 1000 numbers\n",
    "## Plot a histogram that represents the distribution (use 11 bins) \n",
    "## Obtain a goodness of fit statistic for the distribution"
   ]
  },
  {
   "cell_type": "code",
   "execution_count": 18,
   "metadata": {},
   "outputs": [
    {
     "data": {
      "image/png": "[encoded data removed]",
      "text/plain": [
       "<matplotlib.figure.Figure at 0x7fdc2ae8af10>"
      ]
     },
     "metadata": {},
     "output_type": "display_data"
    },
    {
     "name": "stdout",
     "output_type": "stream",
     "text": [
      "[20.25351319275131, 59.119720391658106, 93.19639944294802, 119.72286047169935, 136.55008736430068, 142.31483827328518, 136.55008736430065, 119.72286047169933, 93.19639944294799, 59.11972039165809, 20.253513192751214]\n",
      "Chi Square Obtained:  8.73735549135\n",
      "Critical Value:  18.3070380533\n",
      "Hypothesis Accepted: The distributions are similar with a 95% confidence level.\n"
     ]
    }
   ],
   "source": [
    "#Generating 1000 numbers\n",
    "def generate_1000_ARM():\n",
    "    ARM_gen = []\n",
    "    for f in range(0,1000):\n",
    "        ARM_gen.append(ARM_generator())\n",
    "    return ARM_gen\n",
    "\n",
    "generated_list_ARM = generate_1000_ARM()\n",
    "#Generating Histogram and plotting it\n",
    "ARM_random_numbers_obs, ARM_bins_obs = np.histogram(generated_list_ARM, 11)\n",
    "plt.hist(generated_list_ARM, 11, facecolor='blue', alpha=0.5)\n",
    "plt.title(\"Histogram of Frequency vs Random Numbers Generated\")\n",
    "plt.xlabel(\"Number Generated\")\n",
    "plt.ylabel(\"Frequency\")\n",
    "plt.show()\n",
    "\n",
    "#Calculating Chi Squared Value using : Sum((Observed-Expected)^2/Exp)\n",
    "chi_square_obtained_ARM = 0.0\n",
    "for i in range(0, len(expected_list_AIM)):\n",
    "    chi_square_obtained_ARM += ((ARM_random_numbers_obs[i] - expected_list_AIM[i])**2)/expected_list_AIM[i]\n",
    "\n",
    "print expected_list_AIM    \n",
    "    \n",
    "print \"Chi Square Obtained: \", chi_square_obtained_ARM\n",
    "\n",
    "print \"Critical Value: \", critical_val\n",
    "\n",
    "#Checking whether to accept the hypothesis or not\n",
    "if chi_square_obtained_ARM > critical_val:\n",
    "    print(\"Hypothesis Rejected: The distributions are not similar.\")\n",
    "else:\n",
    "    print(\"Hypothesis Accepted: The distributions are similar with a 95% confidence level.\")"
   ]
  },
  {
   "cell_type": "markdown",
   "metadata": {},
   "source": [
    "## Experimentally measure the computational time for both algorithms and test for any significant difference"
   ]
  },
  {
   "cell_type": "code",
   "execution_count": 12,
   "metadata": {},
   "outputs": [
    {
     "name": "stdout",
     "output_type": "stream",
     "text": [
      "Time taken for AIM to generate 1000 values:  3.16356873512e-06\n",
      "Time taken for ARM to generate 1000 values:  6.60986423492e-06\n",
      "1.13434178991e-248\n",
      "The two algorithms are 95% of the time different, with their variation in computational time being:  1527.49651089\n"
     ]
    }
   ],
   "source": [
    "import time as t\n",
    "#Computing time taken for the algorithm to compute, multiple times\n",
    "def compute_time(algorithm):\n",
    "    computation_time = []\n",
    "    for _ in range (0, 1000):\n",
    "        start = t.time()\n",
    "        algorithm()\n",
    "        end = t.time()\n",
    "        computation_time.append((end-start)/1000)\n",
    "    return (computation_time)\n",
    "\n",
    "time_AIM = np.array(compute_time(generate_1000_AIM))\n",
    "time_ARM = np.array(compute_time(generate_1000_ARM))\n",
    "\n",
    "#Computing average time taken to find 1000 random numbers, per respective algorithm\n",
    "avrg_time_AIM = np.average(compute_time(generate_1000_AIM))\n",
    "avrg_time_ARM = np.average(compute_time(generate_1000_ARM))\n",
    "\n",
    "print \"Time taken for AIM to generate 1000 values: \", avrg_time_AIM\n",
    "print \"Time taken for ARM to generate 1000 values: \", avrg_time_ARM\n",
    "\n",
    "#Comparing difference in means using one-way anova\n",
    "f_val, p_val = stats.f_oneway(time_AIM, time_ARM)\n",
    "\n",
    "if p_val > 0.05:\n",
    "    print \"There is no significant difference between the two alogrithms\"\n",
    "else:\n",
    "    print \"The two algorithms are 95% of the time different, with their variation in computational time being: \", f_val\n",
    "    "
   ]
  },
  {
   "cell_type": "code",
   "execution_count": null,
   "metadata": {},
   "outputs": [],
   "source": []
  },
  {
   "cell_type": "code",
   "execution_count": null,
   "metadata": {},
   "outputs": [],
   "source": []
  },
  {
   "cell_type": "code",
   "execution_count": null,
   "metadata": {},
   "outputs": [],
   "source": []
  },
  {
   "cell_type": "code",
   "execution_count": null,
   "metadata": {},
   "outputs": [],
   "source": []
  },
  {
   "cell_type": "code",
   "execution_count": null,
   "metadata": {},
   "outputs": [],
   "source": []
  }
 ],
 "metadata": {
  "kernelspec": {
   "display_name": "Python 2",
   "language": "python",
   "name": "python2"
  },
  "language_info": {
   "codemirror_mode": {
    "name": "ipython",
    "version": 2
   },
   "file_extension": ".py",
   "mimetype": "text/x-python",
   "name": "python",
   "nbconvert_exporter": "python",
   "pygments_lexer": "ipython2",
   "version": "2.7.12"
  }
 },
 "nbformat": 4,
 "nbformat_minor": 1
}
