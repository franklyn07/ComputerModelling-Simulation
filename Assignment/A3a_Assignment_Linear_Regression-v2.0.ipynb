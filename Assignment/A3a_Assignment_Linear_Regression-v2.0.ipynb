{
 "cells": [
  {
   "cell_type": "raw",
   "metadata": {},
   "source": []
  },
  {
   "cell_type": "markdown",
   "metadata": {
    "collapsed": false
   },
   "source": [
    "# Assignment - Linear Regression\n",
    "### Year 2017-2018  - Semester II\n",
    "### CCE3501 / CCE3502\n",
    "#### Originally devloped by - Adrian Muscat, 2018\n",
    "---\n",
    "# Write Your NAME, ID and CLASS here\n",
    "# e.g John Burger, 657698M, BSc CS, Yr II\n",
    "---\n",
    "\n",
    "\n"
   ]
  },
  {
   "cell_type": "markdown",
   "metadata": {},
   "source": [
    "### In this assignment you will be building polynomial regression models of various degrees and selecting the one that offers the best generalisation. The dataset generator is given.\n",
    "\n",
    "You will be answering the following questions:\n",
    "\n",
    "1. Generate a dataset of size N=20 and produce a plot of Y vs X\n",
    "2. Split dataset into train and test with given function\n",
    "2. Write a polynomial function of order M that returns the predicted value given the weights\n",
    "2. Write a function that computes the error, given the weights and dataset (x,y values). normalise the error by the number of data points\n",
    "3. Calculate the weights for various polynomial degrees (1 - 20). \n",
    "3. Plot the train error and test error versus polynomial dimension\n",
    "5. Which polynomial works best?and plot polynomial\n",
    "5. Plot the whole dataset and the polynomial (M=12) on the same graph. comment on graph\n",
    "\n",
    "Extra questions for CCE3501\n",
    "1. Reshuffle data_set before splitting into train and test\n",
    "2. retrain models and choose the best one.\n",
    "3. repeat (1) and (2) ten times\n",
    "4. comment on results\n"
   ]
  },
  {
   "cell_type": "code",
   "execution_count": null,
   "metadata": {
    "collapsed": false
   },
   "outputs": [],
   "source": [
    "# import useful libraries\n",
    "import numpy as np\n",
    "import math\n",
    "import matplotlib.pyplot as plt\n",
    "import scipy.stats as stats\n",
    "# this line plots graphs in line\n",
    "%matplotlib inline"
   ]
  },
  {
   "cell_type": "code",
   "execution_count": null,
   "metadata": {
    "collapsed": false
   },
   "outputs": [],
   "source": [
    "# DO NOT MODIFY THIS CELL\n",
    "# This function generates a datset of size N\n",
    "# Returns two vectors (X,Y), where X is the feature vector, Y are the real labels\n",
    "def get_data(N):\n",
    "    max_x=1.0\n",
    "    np.random.seed(4)\n",
    "    data_xx=np.random.rand(N)*max_x\n",
    "    xx=np.array(max_x-data_xx)\n",
    "    data_yy = np.sin(np.pi*xx*xx**1.0)+np.random.randn(N)*.05\n",
    "    return data_xx,data_yy"
   ]
  },
  {
   "cell_type": "markdown",
   "metadata": {},
   "source": [
    "## 1. Generate a dataset of size N=20 and generate a plot of Y vs X"
   ]
  },
  {
   "cell_type": "code",
   "execution_count": null,
   "metadata": {
    "collapsed": false
   },
   "outputs": [],
   "source": [
    "# First dataset\n",
    "data_xx,data_yy=get_data(20)\n",
    "..."
   ]
  },
  {
   "cell_type": "markdown",
   "metadata": {},
   "source": [
    "## Split dataset into train and test using below cell"
   ]
  },
  {
   "cell_type": "code",
   "execution_count": null,
   "metadata": {
    "collapsed": false
   },
   "outputs": [],
   "source": [
    "# DO NOT MODIFY THIS CELL, except for N below\n",
    "# Split the dataset \n",
    "# Allocate the first 2/3 to training \n",
    "# Allocate the rest to testing\n",
    "N=20   # MODIFY THIS LINE WHEN YOU CHANGE N\n",
    "train_test_split=int(N*2.0/3.0)\n",
    "xx_train=np.array(data_xx[0:train_test_split])\n",
    "yy_train=np.array(data_yy[0:train_test_split])\n",
    "xx_test=np.array(data_xx[train_test_split:])\n",
    "yy_test=np.array(data_yy[train_test_split:])"
   ]
  },
  {
   "cell_type": "markdown",
   "metadata": {},
   "source": [
    "## 2. Write a function that returns the value from a polynomial of order M and weights"
   ]
  },
  {
   "cell_type": "code",
   "execution_count": null,
   "metadata": {
    "collapsed": false
   },
   "outputs": [],
   "source": [
    "def get_y_predict(W,x):\n",
    "    # W is the weight vector\n",
    "    # x is a 1-D real feature value\n",
    "    ...\n",
    "    return y_p"
   ]
  },
  {
   "cell_type": "markdown",
   "metadata": {},
   "source": [
    "## 3. Write a function that computes the square error, given the weights and dataset (x,y values). Normalise the error by the number of data points"
   ]
  },
  {
   "cell_type": "code",
   "execution_count": null,
   "metadata": {
    "collapsed": true
   },
   "outputs": [],
   "source": [
    "def get_square_error(W,X_tt, Y_tt):\n",
    "    # W is the weight vector\n",
    "    # X_tt is the 1D real feature vector\n",
    "    # Y_tt is the 1D real label vector\n",
    "    ...\n",
    "    return ee2"
   ]
  },
  {
   "cell_type": "markdown",
   "metadata": {},
   "source": [
    "## 4. Write a function that computes the weights for a degree M polynomial (using the analytical solution) from the training set "
   ]
  },
  {
   "cell_type": "code",
   "execution_count": null,
   "metadata": {
    "collapsed": true
   },
   "outputs": [],
   "source": [
    "def get_poly_weights(d_xx,d_yy,M): \n",
    "    # d_xx, d_yy is the data\n",
    "    ...\n",
    "    return ww\n",
    "\n"
   ]
  },
  {
   "cell_type": "markdown",
   "metadata": {},
   "source": [
    "## 5. Using the training set calculate the weights and mean squared error for a M=6 polynomial. You should get the following answers:\n",
    "\n",
    "weights = [0.08198137, 5.43929791,  0.09423305], -45.88237928, 81.04648346, -51.8026659, 11.013098]\n",
    "\n",
    "error on test =  0.028098496\n",
    "\n"
   ]
  },
  {
   "cell_type": "code",
   "execution_count": null,
   "metadata": {
    "collapsed": false
   },
   "outputs": [],
   "source": [
    "# compute weights\n"
   ]
  },
  {
   "cell_type": "code",
   "execution_count": 1,
   "metadata": {
    "collapsed": false
   },
   "outputs": [],
   "source": [
    "# compute mean square error"
   ]
  },
  {
   "cell_type": "markdown",
   "metadata": {},
   "source": [
    "## Calculate the weights for various polynomial degrees (1 - 20). Plot the train error and test error versus polynomial dimension"
   ]
  },
  {
   "cell_type": "code",
   "execution_count": null,
   "metadata": {
    "collapsed": false
   },
   "outputs": [],
   "source": [
    "..."
   ]
  },
  {
   "cell_type": "markdown",
   "metadata": {},
   "source": [
    "## Which polynomial generalizes well?\n",
    "## Plot the whole dataset and the best predictive polynomial  on the same graph"
   ]
  },
  {
   "cell_type": "code",
   "execution_count": null,
   "metadata": {
    "collapsed": false
   },
   "outputs": [],
   "source": [
    "..."
   ]
  },
  {
   "cell_type": "markdown",
   "metadata": {},
   "source": [
    "## Train a polynomial of degree M=12\n",
    "## Plot the whole dataset and the  polynomial (M=12)  on the same graph\n",
    "## Comment on the graph"
   ]
  },
  {
   "cell_type": "code",
   "execution_count": null,
   "metadata": {
    "collapsed": false
   },
   "outputs": [],
   "source": [
    "..."
   ]
  },
  {
   "cell_type": "markdown",
   "metadata": {
    "collapsed": true
   },
   "source": [
    "## Extra questions for CCE3501\n",
    "\n",
    "1. Reshuffle data_set before splitting into train and test\n",
    "2. retrain models and choose the best one.\n",
    "3. repeat (1) and (2) twenty times\n",
    "4. comment on results"
   ]
  },
  {
   "cell_type": "code",
   "execution_count": null,
   "metadata": {
    "collapsed": false
   },
   "outputs": [],
   "source": [
    "..."
   ]
  },
  {
   "cell_type": "code",
   "execution_count": null,
   "metadata": {
    "collapsed": false
   },
   "outputs": [],
   "source": [
    "..."
   ]
  },
  {
   "cell_type": "code",
   "execution_count": null,
   "metadata": {
    "collapsed": true
   },
   "outputs": [],
   "source": [
    "..."
   ]
  },
  {
   "cell_type": "code",
   "execution_count": null,
   "metadata": {
    "collapsed": true
   },
   "outputs": [],
   "source": [
    "..."
   ]
  }
 ],
 "metadata": {
  "kernelspec": {
   "display_name": "Python 2",
   "language": "python",
   "name": "python2"
  },
  "language_info": {
   "codemirror_mode": {
    "name": "ipython",
    "version": 2
   },
   "file_extension": ".py",
   "mimetype": "text/x-python",
   "name": "python",
   "nbconvert_exporter": "python",
   "pygments_lexer": "ipython2",
   "version": "2.7.12"
  }
 },
 "nbformat": 4,
 "nbformat_minor": 0
}
