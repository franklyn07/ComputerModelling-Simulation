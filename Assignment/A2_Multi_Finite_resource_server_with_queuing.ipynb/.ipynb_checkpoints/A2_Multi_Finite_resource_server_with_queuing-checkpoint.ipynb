{
 "cells": [
  {
   "cell_type": "markdown",
   "metadata": {},
   "source": [
    "# Next-Event Simulation Assignment\n",
    "### Year 2017-2018  - Semester II\n",
    "### CCE3501 / CCE3502\n",
    "#### Originally devloped by - Adrian Muscat, 2018\n",
    "---"
   ]
  },
  {
   "cell_type": "markdown",
   "metadata": {},
   "source": [
    "# Franklyn Sciberras\n",
    "# 0441498M \n",
    "# BSc CS, Yr II\n",
    "---\n"
   ]
  },
  {
   "cell_type": "markdown",
   "metadata": {},
   "source": [
    "\n",
    "In this assignment you will be simulating a multiserver system with a limited buffer queue at each server. As an example you will consider a car share system. Such systems operate like self drive car hire systems, however the customer hires the car for the duration of the trip only. Car share company owns a number of parking lots and customers pick up and drop off cars at these designated parking lots.\n",
    "\n",
    "Overall you will be setting up a Next Event Simulation to model the system. You will save the values for some variables and validate the simulation using statistics. We are not interested in tracking the individual customers and therefore pre-booking is not allowed. Instead we are interested in how many requests are serviced, how many are blocked, the average waiting time, and quality of service versus cost (vehicle fleet size).  \n",
    "\n",
    "#### Assumptions\n",
    "1. System variables are defined in the below scripts.\n",
    "1. The location of the parking lots (three in number) are predefined and the distances are given in a matrix.\n",
    "1. A request is blocked if queue at server is longer than maximum buffer length.\n",
    "1. Assume exponential inter-arrival time for requests (code given).\n",
    "1. Assume service time depends on distance travelled (code given).\n",
    "1. Time of travel is constant throughout the day.\n",
    "1. Customers travel from one parking lot to another and do not stop at any intermediate location.\n",
    "\n",
    "\n",
    "\n",
    "#### Tasks and Questions  (repeated below at the appropriate position)\n",
    "1. Take note of the system variables declared \n",
    "1. Take note of the network of the spatial distribution of the five parking lots and time of travel \n",
    "1. Sketch a system diagram, showing the three servers and associated queues (it is useful to depict the servers at the right geographical position)    \n",
    "1. Formulate and code request_arrival routine\n",
    "1. Formulate and code begin_service routine\n",
    "1. Formulate and code end_service routine\n",
    "2. Complete the main simulation function\n",
    "2. Check the final values for variables N and Q\n",
    "2. Compute Blocking Rate\n",
    "2. Plot the number of customers queing at parking lot (1) versus time\n",
    "2. Run the simulation N times and find the mean and standard deviation\n",
    "\n"
   ]
  },
  {
   "cell_type": "raw",
   "metadata": {},
   "source": []
  },
  {
   "cell_type": "code",
   "execution_count": 145,
   "metadata": {},
   "outputs": [],
   "source": [
    "import random, math\n",
    "import numpy as np\n",
    "import matplotlib.pyplot as plt\n",
    "import scipy.stats as stats"
   ]
  },
  {
   "cell_type": "code",
   "execution_count": 146,
   "metadata": {},
   "outputs": [],
   "source": [
    "# this line plots graphs in line\n",
    "%matplotlib inline"
   ]
  },
  {
   "cell_type": "markdown",
   "metadata": {},
   "source": [
    "## Take note of the network of the spatial distribution of the three parking lots and time of travel from one node to another"
   ]
  },
  {
   "cell_type": "code",
   "execution_count": 147,
   "metadata": {},
   "outputs": [],
   "source": [
    "# DO NOT MODIFY THIS CELL\n",
    "\n",
    "def InterArrivalTime():\n",
    "    # exponential arrivals\n",
    "    mean = 0.01  # units=hours\n",
    "    return -mean*math.log(random.random())\n",
    "\n",
    "def get_trip_time(N1,N2):\n",
    "    v=25.0  # average vehicle speed = km/hr\n",
    "    d = np.sqrt((service_node[N1,0]-service_node[N2,0])**2.0 + (service_node[N1,1]-service_node[N2,1])**2.0)\n",
    "    return d/v\n",
    "\n",
    "# Service area 10km x 10km\n",
    "service_node = np.array([[1,1], \n",
    "                 [9,5], \n",
    "                 [3,9]])\n",
    "#\n",
    "Z = np.shape(service_node)[0]           # number of nodes\n",
    "#\n",
    "time_to_travel=np.empty([Z,Z],dtype=float)\n",
    "for i in range(Z):\n",
    "    for j in range(Z):\n",
    "        time_to_travel[i,j]=get_trip_time(i,j)\n",
    "#"
   ]
  },
  {
   "cell_type": "markdown",
   "metadata": {},
   "source": [
    "## Take note of the system variables declared"
   ]
  },
  {
   "cell_type": "code",
   "execution_count": 148,
   "metadata": {},
   "outputs": [],
   "source": [
    "# Simulation Variables\n",
    "# initialize\n",
    "fileOutA=True   # Flag, if true add to stateVarList\n",
    "stateVarList=[]    # List containing [time, N(t), Q(t)]\n",
    "servTimeList=[]\n",
    "eventList=[]    # Event calendar list\n",
    "notice=[]       # notice = [ notice number, time, type, [parameters] ]\n",
    "                # type = 0, arrival\n",
    "                # type = 1, begin service\n",
    "                # type = 2, end service\n",
    "                # param 0 = orgin/destination node\n",
    "now = 0.0       # Simulation time\n",
    "#\n",
    "end_of_sim = 12.0 # time end of generating requests\n",
    "#\n",
    "\n",
    "#\n",
    "Qmax=3          # request blocked if Q=>Qmax\n",
    "Q=[]            # Queue Length at node z, Q=0 when empty\n",
    "for i in range(Z):\n",
    "    Q.append(0)\n",
    "N=[]            # Number of resources at node z\n",
    "for i in range(Z):\n",
    "    N.append(10)\n"
   ]
  },
  {
   "cell_type": "markdown",
   "metadata": {},
   "source": [
    "## TASK: Sketch a system diagram, showing the three servers and associated queues \n",
    "### (it is useful to depict the servers at the right geographical position)"
   ]
  },
  {
   "cell_type": "markdown",
   "metadata": {
    "collapsed": true
   },
   "source": []
  },
  {
   "cell_type": "code",
   "execution_count": 149,
   "metadata": {},
   "outputs": [],
   "source": [
    "# DO NOT MODIFY THIS CELL\n",
    "# add event notice to calendar (event list)\n",
    "# event notices are ordered in time\n",
    "def ScheduleEventNotice(notice):\n",
    "    global eventList\n",
    "    if len(eventList)==0:\n",
    "        eventList.append(notice)\n",
    "    elif len(eventList)==1:\n",
    "        #if time of new notice occurs after first existing notice, append new notice at end of list\n",
    "        if eventList[0][1] <= notice[1]:\n",
    "            eventList.append(notice)\n",
    "        #else insert it at position zero and move the notice at position zero to position one\n",
    "        else:\n",
    "            eventList.insert(0,notice)\n",
    "    #if it contains more than one item, check the last notice and compare its time with the time of the new notice\n",
    "    #if it new notice occurs after last item append it to the end of the list\n",
    "    elif eventList[len(eventList)-1][1] < notice[1]:\n",
    "        eventList.append(notice)\n",
    "    #else search for the notice in the list which occurs after the new notice, and insert the new notice prior to it\n",
    "    else:\n",
    "        i=0\n",
    "        while (eventList[i][1]<=notice[1] and i<(len(eventList)-1)):\n",
    "            i += 1\n",
    "        eventList.insert(i,notice)"
   ]
  },
  {
   "cell_type": "code",
   "execution_count": 150,
   "metadata": {},
   "outputs": [],
   "source": [
    "# DO NOT MODIFY THIS CELL\n",
    "\n",
    "# save variables for output processing in a list\n",
    "def WriteToOutputList():\n",
    "    stateEntry = [now, list(N), list(Q)]  # ****\n",
    "    stateVarList.append(stateEntry)\n",
    "\n",
    "# Debug script \n",
    "def DisplayEventList(header):\n",
    "    print header\n",
    "    i=0\n",
    "    while i<len(eventList):\n",
    "        print eventList[i]\n",
    "        i += 1\n",
    "\n",
    "# Debug Script\n",
    "def DisplayStateList(header):\n",
    "    print header\n",
    "    i=0\n",
    "    while i<len(stateVarList):\n",
    "        print stateVarList[i]\n",
    "        i += 1"
   ]
  },
  {
   "cell_type": "code",
   "execution_count": 151,
   "metadata": {},
   "outputs": [],
   "source": [
    "# DO NOT MODIFY THIS CELL\n",
    "\n",
    "def ODServiceTime(x,y):\n",
    "    return time_to_travel[x,y]\n",
    "\n",
    "def generate_Origin_node(Nmax):\n",
    "    #Nmax is an integer equal to the number of nodes in system\n",
    "    Nrange=range(int(Nmax))\n",
    "    idx=np.random.randint(low=0,high=len(Nrange))\n",
    "    origin = Nrange[idx]\n",
    "    return origin\n",
    "\n",
    "def generate_Destination_node(Nmax,origin_node):\n",
    "    #Nmax is an integer equal to the number of nodes in system\n",
    "    Nrange=range(int(Nmax))\n",
    "    Nrange.remove(origin_node)\n",
    "    idx=np.random.randint(low=0,high=len(Nrange))\n",
    "    destination = Nrange[idx]\n",
    "    return destination\n",
    "\n",
    "#not using this\n",
    "def generate_OD_tuple(Nmax):\n",
    "    #Nmax is an integer equal to the number of nodes in system\n",
    "    Nrange=range(int(Nmax))\n",
    "    idx=np.random.randint(low=0,high=len(Nrange))\n",
    "    origin = Nrange[idx]\n",
    "    Nrange.remove(Nrange[idx])\n",
    "    idx=np.random.randint(low=0,high=len(Nrange))\n",
    "    destination = Nrange[idx]\n",
    "    return [origin,destination]"
   ]
  },
  {
   "cell_type": "markdown",
   "metadata": {},
   "source": [
    "## TASK : Formulate and code Event_Routine_Arrival"
   ]
  },
  {
   "cell_type": "code",
   "execution_count": 152,
   "metadata": {},
   "outputs": [],
   "source": [
    "def EventRoutineArrival(P): # P are the parameters in the event notice\n",
    "    global EN, N, Q, Z, tot_no_arrivals, blocked, Blocked\n",
    "    tot_no_arrivals+=1\n",
    "    if now < end_of_sim:\n",
    "        EN+=1\n",
    "        Notice = [EN, now+(InterArrivalTime()),0,[generate_Origin_node(Z)]]\n",
    "        ScheduleEventNotice(Notice)\n",
    "    if Q[P[0]] < Qmax:\n",
    "        Q[P[0]]+=1\n",
    "        if N[P[0]]>0:\n",
    "            EN+=1\n",
    "            Notice = [EN,now,1,[P[0]]]\n",
    "            ScheduleEventNotice(Notice)\n",
    "    else:\n",
    "        Blocked[P[0]] +=1\n",
    "        blocked+=1\n",
    "    WriteToOutputList()\n"
   ]
  },
  {
   "cell_type": "markdown",
   "metadata": {},
   "source": [
    "## TASK : Formulate and code Event_Routine_Begin_Service"
   ]
  },
  {
   "cell_type": "code",
   "execution_count": 153,
   "metadata": {},
   "outputs": [],
   "source": [
    "def EventRoutineBeginService(P): # P are the parameters in the event notice\n",
    "    global EN, N, Q, Z\n",
    "    Q[P[0]] -= 1\n",
    "    N[P[0]] -= 1\n",
    "    Dest = generate_Destination_node(Z,P[0])\n",
    "    EN+=1\n",
    "    Notice = [EN,now+ODServiceTime(P[0],Dest),2,[Dest]]\n",
    "    ScheduleEventNotice(Notice)\n",
    "    WriteToOutputList()"
   ]
  },
  {
   "cell_type": "markdown",
   "metadata": {},
   "source": [
    "## TASK : Formulate and code Event_Routine_End_Service"
   ]
  },
  {
   "cell_type": "code",
   "execution_count": 154,
   "metadata": {},
   "outputs": [],
   "source": [
    "def EventRoutineEndService(P): # P are the parameters in the event notice\n",
    "    global EN, N, Q\n",
    "    N[P[0]]+=1\n",
    "    if Q[P[0]]>0:\n",
    "        EN+=1\n",
    "        Notice = [EN,now,1,[P[0]]]\n",
    "        ScheduleEventNotice(Notice)\n",
    "    WriteToOutputList()"
   ]
  },
  {
   "cell_type": "markdown",
   "metadata": {},
   "source": [
    "## TASK : Execute the Main Simulation Routine "
   ]
  },
  {
   "cell_type": "code",
   "execution_count": 155,
   "metadata": {
    "scrolled": false
   },
   "outputs": [
    {
     "name": "stdout",
     "output_type": "stream",
     "text": [
      "Start of Simulation run\n",
      "End of Simulation run\n"
     ]
    }
   ],
   "source": [
    "# DO NOT MODIFY THIS CELL\n",
    "#\n",
    "# initialize\n",
    "fileOutA=True   # Flag, if true output to file\n",
    "stateVarList=[]    # List containing [time, N(t), q(t)]\n",
    "servTimeList=[]\n",
    "eventList=[]    # Event calendar list\n",
    "notice=[]       # notice = [ notice number, time, type, [parameters] ]\n",
    "                # type = 0, arrival\n",
    "                # type = 1, begin service\n",
    "                # type = 2, end service\n",
    "                # param 0 = orgin/destination node\n",
    "now = 0.0       # Simulation time\n",
    "#\n",
    "end_of_sim = 12.0 # time end of generating requests\n",
    "#\n",
    "#Network of nodes definition\n",
    "# service area 10km x 10km\n",
    "service_node = np.array([[1,1], \n",
    "                 [9,5], \n",
    "                 [3,9]])\n",
    "Z = np.shape(service_node)[0]           # number of nodes\n",
    "time_to_travel=np.empty([Z,Z],dtype=float)\n",
    "for i in range(Z):\n",
    "    for j in range(Z):\n",
    "        time_to_travel[i,j]=get_trip_time(i,j)\n",
    "#\n",
    "Qmax=3          # request blocked if Q=>Qmax\n",
    "Q=[]            # Queue Length at node z, Q=0 when empty\n",
    "for i in range(Z):\n",
    "    Q.append(0)\n",
    "N=[]            # Number of resources at node z\n",
    "for i in range(Z):\n",
    "    N.append(10)\n",
    "\n",
    "# variables for collecting stats\n",
    "tot_no_arrivals=0\n",
    "blocked=0\n",
    "\n",
    "print 'Start of Simulation run'\n",
    "\n",
    "# Schedule arrival event at time NOW;\n",
    "EN=0            # Event Notice Number\n",
    "notice=[EN, now, 0,[generate_Origin_node(Z)]]\n",
    "ScheduleEventNotice(notice)\n",
    "\n",
    "while (eventList!=[] and now<30): #30 is a constant upper limit\n",
    "    now = eventList[0][1]\n",
    "    #print now,'   ',eventList[0]\n",
    "    #print now, 'Q = ',Q, '   N = ',N\n",
    "    #DisplayEventList('Hello')\n",
    "    if eventList[0][2]==0:\n",
    "        EventRoutineArrival(eventList[0][3])\n",
    "    elif eventList[0][2]==1:\n",
    "        EventRoutineBeginService(eventList[0][3])\n",
    "    elif eventList[0][2]==2:\n",
    "        EventRoutineEndService(eventList[0][3])\n",
    "    else:\n",
    "        print 'Unknown event type'\n",
    "    #Remove first notice\n",
    "    eventList.pop(0)\n",
    "    #DisplayEventList(\"EventList\")\n",
    "\n",
    "print 'End of Simulation run'\n",
    "#DisplayStateList(\"StateList\")"
   ]
  },
  {
   "cell_type": "markdown",
   "metadata": {},
   "source": [
    "## TASK : Check the final values for variables N and Q "
   ]
  },
  {
   "cell_type": "code",
   "execution_count": 156,
   "metadata": {},
   "outputs": [
    {
     "name": "stdout",
     "output_type": "stream",
     "text": [
      "Resources:  [8, 5, 17]\n",
      "Queues:  [0, 0, 0]\n"
     ]
    }
   ],
   "source": [
    "print \"Resources: \",N\n",
    "print \"Queues: \",Q"
   ]
  },
  {
   "cell_type": "markdown",
   "metadata": {},
   "source": [
    "## TASK : Compute Blocking Rate (percentage customers blocked from service)"
   ]
  },
  {
   "cell_type": "code",
   "execution_count": 157,
   "metadata": {},
   "outputs": [
    {
     "name": "stdout",
     "output_type": "stream",
     "text": [
      "Percentage Blocked:  16.6524338173 %\n"
     ]
    }
   ],
   "source": [
    "def get_blockingRate(blocked, tot_no_arrivals):\n",
    "    return (float(blocked)/float(tot_no_arrivals))*100.0\n",
    "\n",
    "print \"Percentage Blocked: \",get_blockingRate(blocked,tot_no_arrivals) , \"%\" "
   ]
  },
  {
   "cell_type": "code",
   "execution_count": 158,
   "metadata": {},
   "outputs": [],
   "source": [
    "# DO NOT MODIFY THIS CELL\n",
    "# This function return x (time) and y (state variable chosen) vectors from stateVarList\n",
    "def get_xy_stateVarList(sL,i,n):\n",
    "    # sL = stateVarList\n",
    "    # x = time stamp\n",
    "    # i = variable to plot ( Q(n) or N(n))\n",
    "    # n = pointer to nodes {0,1,2}\n",
    "    # return x,y (numpy arrays)\n",
    "    x = np.empty(len(sL),dtype=float)\n",
    "    y = np.empty_like(x)\n",
    "    for j, entry in enumerate(sL):\n",
    "        x[j] = entry[0]\n",
    "        y[j] = entry[i][n]\n",
    "    return x,y\n",
    "        "
   ]
  },
  {
   "cell_type": "code",
   "execution_count": 159,
   "metadata": {},
   "outputs": [
    {
     "data": {
      "image/png": "[encoded data removed]",
      "text/plain": [
       "<matplotlib.figure.Figure at 0x7f810362ec50>"
      ]
     },
     "metadata": {},
     "output_type": "display_data"
    }
   ],
   "source": [
    "# DO NOT MODIFY THIS CELL\n",
    "# Plot the number of cars available at parking lot (0) versus time\n",
    "x,y=get_xy_stateVarList(stateVarList,1,0)\n",
    "fig, ax = plt.subplots(figsize=(10, 5))\n",
    "ax.plot(x, y,'b')\n",
    "ax.set_xlim((0,np.max(x)))\n",
    "ax.set_ylim((0,np.max(y)*1.2))\n",
    "#x0,x1 = ax.get_xlim()\n",
    "#y0,y1 = ax.get_ylim()\n",
    "#ax.set_aspect(1.0)\n",
    "#ax.grid(b=True, which='major', linestyle='--')\n",
    "plt.show()"
   ]
  },
  {
   "cell_type": "markdown",
   "metadata": {},
   "source": [
    "## TASK : Plot the number of customers queing at parking lot (1) versus time  "
   ]
  },
  {
   "cell_type": "code",
   "execution_count": 160,
   "metadata": {},
   "outputs": [
    {
     "data": {
      "image/png": "[encoded data removed]",
      "text/plain": [
       "<matplotlib.figure.Figure at 0x7f8103a0cf90>"
      ]
     },
     "metadata": {},
     "output_type": "display_data"
    }
   ],
   "source": [
    "#your code here\n",
    "x,y=get_xy_stateVarList(stateVarList,2,1)\n",
    "fig, ax = plt.subplots(figsize=(10, 5))\n",
    "ax.plot(x, y,'b')\n",
    "ax.set_xlim((0,np.max(x)))\n",
    "ax.set_ylim((0,np.max(y)*1.5))\n",
    "plt.show()"
   ]
  },
  {
   "cell_type": "code",
   "execution_count": 161,
   "metadata": {},
   "outputs": [],
   "source": [
    "# DO NOT MODIFY THIS CELL\n",
    "#Calculate time averaged stats\n",
    "def get_TimeAveragedStats(sL,j,n):\n",
    "    # sL = stateList\n",
    "    # j = variable to average\n",
    "    # n = pointer to nodes {0,1,2}\n",
    "    # return time averaged j\n",
    "    i=1\n",
    "    totalArea=0\n",
    "    while i<len(sL):\n",
    "        dT = sL[i][0] - sL[i-1][0]\n",
    "        totalArea += dT*float(sL[i-1][j][n])\n",
    "        i += 1\n",
    "    totalTime=sL[len(sL)-1][0] - sL[0][0]\n",
    "    mean = totalArea/totalTime\n",
    "    return mean"
   ]
  },
  {
   "cell_type": "code",
   "execution_count": 162,
   "metadata": {},
   "outputs": [
    {
     "data": {
      "text/plain": [
       "1.1056470777601246"
      ]
     },
     "execution_count": 162,
     "metadata": {},
     "output_type": "execute_result"
    }
   ],
   "source": [
    "# DO NOT MODIFY THIS CELL\n",
    "# Compute average queue length at parking lot (2) \n",
    "get_TimeAveragedStats(stateVarList,2,2)"
   ]
  },
  {
   "cell_type": "markdown",
   "metadata": {},
   "source": [
    "## TASK : Compute the time-averaged number of cars and queue lengths at each parking lot  "
   ]
  },
  {
   "cell_type": "code",
   "execution_count": 163,
   "metadata": {},
   "outputs": [
    {
     "name": "stdout",
     "output_type": "stream",
     "text": [
      "Average Queue Length At Parking Lot 0:  0.862917046024\n",
      "Average Queue Length At Parking Lot 1:  0.902829637365\n",
      "Average Queue Length At Parking Lot 2:  1.10564707776\n",
      "Average Number Of Cars At parking Lot 0:  1.52706646484\n",
      "Average Number Of Cars At parking Lot 1:  1.55606833588\n",
      "Average Number Of Cars At parking Lot 2:  1.30354324598\n"
     ]
    }
   ],
   "source": [
    "print \"Average Queue Length At Parking Lot 0: \",get_TimeAveragedStats(stateVarList,2,0)\n",
    "print \"Average Queue Length At Parking Lot 1: \",get_TimeAveragedStats(stateVarList,2,1)\n",
    "print \"Average Queue Length At Parking Lot 2: \",get_TimeAveragedStats(stateVarList,2,2)\n",
    "print \"Average Number Of Cars At parking Lot 0: \",get_TimeAveragedStats(stateVarList,1,0)\n",
    "print \"Average Number Of Cars At parking Lot 1: \",get_TimeAveragedStats(stateVarList,1,1)\n",
    "print \"Average Number Of Cars At parking Lot 2: \",get_TimeAveragedStats(stateVarList,1,2)"
   ]
  },
  {
   "cell_type": "markdown",
   "metadata": {},
   "source": [
    "## TASK : Run the simulation 100 times and find the mean and standard deviation for:\n",
    "1. The blocking-rate at each parking lot.\n",
    "1. Residual number of cars at each parking lot at the end of a day.\n",
    "1. Time-averaged number of cars at each parking lot. \n",
    "1. Time-averaged queue lengths at each parking lot. "
   ]
  },
  {
   "cell_type": "code",
   "execution_count": 164,
   "metadata": {},
   "outputs": [],
   "source": [
    "# DO NOT MODIFY THIS CELL\n",
    "#\n",
    "def get_vector_stats(ddata,j):\n",
    "    # ddata = list containing data in rows and cols\n",
    "    # j = column to average\n",
    "    # return mean and stdev j\n",
    "    x = np.empty(len(ddata),dtype=float)\n",
    "    for i in range(len(x)):\n",
    "        x[i]=ddata[i][j]\n",
    "    x_mean = np.mean(x)\n",
    "    x_stdev = np.std(x)\n",
    "    return x_mean,x_stdev\n",
    "    #return x"
   ]
  },
  {
   "cell_type": "code",
   "execution_count": 175,
   "metadata": {},
   "outputs": [
    {
     "name": "stdout",
     "output_type": "stream",
     "text": [
      "Mean Block Rate At Parking Lot 0:  5.4274340942\n",
      "Standard Deviation At Parking Lot 0:  1.40750951288\n",
      "Mean Block Rate At Parking Lot 1:  6.53028170296\n",
      "Standard Deviation At Parking Lot 1:  1.34595826513\n",
      "Mean Block Rate At Parking Lot 2:  5.82691004262\n",
      "Standard Deviation At Parking Lot 2:  1.81908786004 \n",
      "\n",
      "Mean Residual Cars At Parking Lot 0:  9.6\n",
      "Standard Deviation At Parking Lot 0:  2.33238075794\n",
      "Mean Residual Cars At Parking Lot 1:  11.4\n",
      "Standard Deviation At Parking Lot 1:  3.2\n",
      "Mean Residual Cars At Parking Lot 2:  9.0\n",
      "Standard Deviation At Parking Lot 2:  2.19089023002 \n",
      "\n",
      "Mean Average Number of Cars At Parking Lot 0:  1.32234210791\n",
      "Standard Deviation At Parking Lot 0:  0.484637135242\n",
      "Mean Average Number of Cars At Parking Lot 1:  1.36480481398\n",
      "Standard Deviation At Parking Lot 1:  0.237866390802\n",
      "Mean Average Number of Cars At Parking Lot 2:  1.43277192738\n",
      "Standard Deviation At Parking Lot 2:  0.502536363639 \n",
      "\n",
      "Mean Average Queue Length At Parking Lot 0:  1.32234210791\n",
      "Standard Deviation At Parking Lot 0:  0.484637135242\n",
      "Mean Average Queue Length At Parking Lot 1:  1.36480481398\n",
      "Standard Deviation At Parking Lot 1:  0.237866390802\n",
      "Mean Average Queue Length At Parking Lot 2:  1.43277192738\n",
      "Standard Deviation At Parking Lot 2:  0.502536363639\n"
     ]
    }
   ],
   "source": [
    "statistics = []\n",
    "currentRunStats = []\n",
    "\n",
    "for count in range (5):\n",
    "    fileOutA=True   # Flag, if true output to file\n",
    "    stateVarList=[]    # List containing [time, N(t), q(t)]\n",
    "    servTimeList=[]\n",
    "    eventList=[]    # Event calendar list\n",
    "    notice=[]       # notice = [ notice number, time, type, [parameters] ]\n",
    "                    # type = 0, arrival\n",
    "                    # type = 1, begin service\n",
    "                    # type = 2, end service\n",
    "                    # param 0 = orgin/destination node\n",
    "    now = 0.0       # Simulation time\n",
    "    #\n",
    "    end_of_sim = 12.0 # time end of generating requests\n",
    "    #\n",
    "    #Network of nodes definition\n",
    "    # service area 10km x 10km\n",
    "    service_node = np.array([[1,1], \n",
    "                     [9,5], \n",
    "                     [3,9]])\n",
    "    Z = np.shape(service_node)[0]           # number of nodes\n",
    "    time_to_travel=np.empty([Z,Z],dtype=float)\n",
    "    for i in range(Z):\n",
    "        for j in range(Z):\n",
    "            time_to_travel[i,j]=get_trip_time(i,j)\n",
    "    #\n",
    "    Qmax=3          # request blocked if Q=>Qmax\n",
    "    Q=[]            # Queue Length at node z, Q=0 when empty\n",
    "    for i in range(Z):\n",
    "        Q.append(0)\n",
    "    N=[]            # Number of resources at node z\n",
    "    for i in range(Z):\n",
    "        N.append(10)\n",
    "\n",
    "    # variables for collecting stats\n",
    "    tot_no_arrivals=0\n",
    "    blocked=0\n",
    "    Blocked = []\n",
    "    for i in range(Z):\n",
    "        Blocked.append(0)\n",
    "\n",
    "\n",
    "    # Schedule arrival event at time NOW;\n",
    "    EN=0            # Event Notice Number\n",
    "    notice=[EN, now, 0,[generate_Origin_node(Z)]]\n",
    "    ScheduleEventNotice(notice)\n",
    "    \n",
    "    while (eventList!=[] and now<30): #30 is a constant upper limit\n",
    "        now = eventList[0][1]\n",
    "        #print now,'   ',eventList[0]\n",
    "        #print now, 'Q = ',Q, '   N = ',N\n",
    "        #DisplayEventList('Hello')\n",
    "        if eventList[0][2]==0:\n",
    "            EventRoutineArrival(eventList[0][3])\n",
    "        elif eventList[0][2]==1:\n",
    "            EventRoutineBeginService(eventList[0][3])\n",
    "        elif eventList[0][2]==2:\n",
    "            EventRoutineEndService(eventList[0][3])\n",
    "        else:\n",
    "            print 'Unknown event type'\n",
    "        #Remove first notice\n",
    "        eventList.pop(0)\n",
    "        #DisplayEventList(\"EventList\")\n",
    "    \n",
    "    currentRunStats = [get_blockingRate(Blocked[0],tot_no_arrivals),get_blockingRate(Blocked[1],tot_no_arrivals),get_blockingRate(Blocked[2],tot_no_arrivals),\n",
    "                              N[0], N[1],N[2], \n",
    "                              get_TimeAveragedStats(stateVarList,1,0),get_TimeAveragedStats(stateVarList,1,1),get_TimeAveragedStats(stateVarList,1,2),\n",
    "                              get_TimeAveragedStats(stateVarList,2,0),get_TimeAveragedStats(stateVarList,2,1),get_TimeAveragedStats(stateVarList,2,2)]\n",
    "    statistics.append(currentRunStats)  \n",
    "    \n",
    "def getStatsBlockRate(statistics):\n",
    "    mean,stdDev = get_vector_stats(statistics,0)\n",
    "    print \"Mean Block Rate At Parking Lot 0: \", mean\n",
    "    print \"Standard Deviation At Parking Lot 0: \", stdDev\n",
    "    mean,stdDev = get_vector_stats(statistics,1)\n",
    "    print \"Mean Block Rate At Parking Lot 1: \", mean\n",
    "    print \"Standard Deviation At Parking Lot 1: \", stdDev\n",
    "    mean,stdDev = get_vector_stats(statistics,2)\n",
    "    print \"Mean Block Rate At Parking Lot 2: \", mean\n",
    "    print \"Standard Deviation At Parking Lot 2: \", stdDev, \"\\n\"\n",
    "\n",
    "def getResCars(statistics):\n",
    "    mean,stdDev = get_vector_stats(statistics,3)\n",
    "    print \"Mean Residual Cars At Parking Lot 0: \", mean\n",
    "    print \"Standard Deviation At Parking Lot 0: \", stdDev\n",
    "    mean,stdDev = get_vector_stats(statistics,4)\n",
    "    print \"Mean Residual Cars At Parking Lot 1: \", mean\n",
    "    print \"Standard Deviation At Parking Lot 1: \", stdDev\n",
    "    mean,stdDev = get_vector_stats(statistics,5)\n",
    "    print \"Mean Residual Cars At Parking Lot 2: \", mean\n",
    "    print \"Standard Deviation At Parking Lot 2: \", stdDev, \"\\n\"\n",
    "\n",
    "def getAvrgNoCars(statistics):\n",
    "    mean,stdDev = get_vector_stats(statistics,6)\n",
    "    print \"Mean Average Number of Cars At Parking Lot 0: \", mean\n",
    "    print \"Standard Deviation At Parking Lot 0: \", stdDev\n",
    "    mean,stdDev = get_vector_stats(statistics,7)\n",
    "    print \"Mean Average Number of Cars At Parking Lot 1: \", mean\n",
    "    print \"Standard Deviation At Parking Lot 1: \", stdDev\n",
    "    mean,stdDev = get_vector_stats(statistics,8)\n",
    "    print \"Mean Average Number of Cars At Parking Lot 2: \", mean\n",
    "    print \"Standard Deviation At Parking Lot 2: \", stdDev,\"\\n\"\n",
    "\n",
    "def getAvrgQLen(statistics):\n",
    "    mean,stdDev = get_vector_stats(statistics,6)\n",
    "    print \"Mean Average Queue Length At Parking Lot 0: \", mean\n",
    "    print \"Standard Deviation At Parking Lot 0: \", stdDev\n",
    "    mean,stdDev = get_vector_stats(statistics,7)\n",
    "    print \"Mean Average Queue Length At Parking Lot 1: \", mean\n",
    "    print \"Standard Deviation At Parking Lot 1: \", stdDev\n",
    "    mean,stdDev = get_vector_stats(statistics,8)\n",
    "    print \"Mean Average Queue Length At Parking Lot 2: \", mean\n",
    "    print \"Standard Deviation At Parking Lot 2: \", stdDev\n",
    "\n",
    "getStatsBlockRate(statistics)\n",
    "getResCars(statistics)\n",
    "getAvrgNoCars(statistics)\n",
    "getAvrgQLen(statistics)\n",
    "    "
   ]
  },
  {
   "cell_type": "code",
   "execution_count": null,
   "metadata": {},
   "outputs": [],
   "source": []
  },
  {
   "cell_type": "code",
   "execution_count": null,
   "metadata": {},
   "outputs": [],
   "source": []
  }
 ],
 "metadata": {
  "kernelspec": {
   "display_name": "Python 2",
   "language": "python",
   "name": "python2"
  },
  "language_info": {
   "codemirror_mode": {
    "name": "ipython",
    "version": 2
   },
   "file_extension": ".py",
   "mimetype": "text/x-python",
   "name": "python",
   "nbconvert_exporter": "python",
   "pygments_lexer": "ipython2",
   "version": "2.7.12"
  }
 },
 "nbformat": 4,
 "nbformat_minor": 1
}
