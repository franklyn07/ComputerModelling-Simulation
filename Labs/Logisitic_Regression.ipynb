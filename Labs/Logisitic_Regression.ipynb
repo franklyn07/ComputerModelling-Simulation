{
 "cells": [
  {
   "cell_type": "code",
   "execution_count": 15,
   "metadata": {},
   "outputs": [
    {
     "data": {
      "image/png": "[encoded data removed]",
      "text/plain": [
       "<matplotlib.figure.Figure at 0x7f5092cacad0>"
      ]
     },
     "metadata": {},
     "output_type": "display_data"
    },
    {
     "name": "stdout",
     "output_type": "stream",
     "text": [
      "class error =  22.7272727273\n"
     ]
    }
   ],
   "source": [
    "import numpy as np \n",
    "import matplotlib.pyplot as plt\n",
    "import scipy.stats as stats\n",
    "\n",
    "\n",
    "x1_0 = [1.0,0.6,1.7,2.0,2.5,2.8,1.7,0.8,2.3,2.6,1.5]\n",
    "x2_0 = [1.9,2.0,2.1,3.0,4.1,5.3,2.9,1.2,2.0,3.0,1.0]\n",
    "\n",
    "x1_1 = [0.7,1.2,1.6,1.9,2.3,2.7,0.6,0.9,1.5,2.2,2.5]\n",
    "x2_1 = [2.1,2.2,2.4,3.1,3.5,5.0,3.0,3.3,3.2,4.0,5.1]\n",
    "\n",
    "x = [1.0,0.6,1.7,2.0,2.5,2.8,1.7,0.8,2.3,2.6,1.5,0.7,1.2,1.6,1.9,2.3,2.7,0.6,0.9,1.5,2.2,2.5]\n",
    "\n",
    "plt.plot(x1_0, x2_0, 'o')\n",
    "plt.plot(x1_1, x2_1, 'rx')\n",
    "#plt.axis([0, 6, 0, 6])\n",
    "plt.plot(x, np.add(np.multiply(x, 1.1), 0.8))\n",
    "plt.show()\n",
    "\n",
    "#you count the number of points that are not in their clas, and divide by the total number of points(or examples)\n",
    "class_error = 5.0/22.0 * 100.0\n",
    "print \"class error = \", class_error"
   ]
  },
  {
   "cell_type": "code",
   "execution_count": 25,
   "metadata": {},
   "outputs": [
    {
     "name": "stdout",
     "output_type": "stream",
     "text": [
      "Z value of (0,8) =  7.2\n",
      "Prob. that (0,8) is in class X =  0.999253971166\n",
      "0.49999975\n"
     ]
    }
   ],
   "source": [
    "#this gives the value of the new point when entered in the discriminant line.\n",
    "def return_Z(x1,x2):\n",
    "    W2X2 = np.multiply(1, x2)\n",
    "    W1X1 = np.multiply(1.1, x1)\n",
    "    W0 = 0.8\n",
    "    \n",
    "    return W2X2 - W1X1 - W0\n",
    "\n",
    "print \"Z value of (0,8) = \", return_Z(0,8)\n",
    "\n",
    "#this function gives the probability that the new point is in class X\n",
    "#if we do it with sigmoid function y = 1/(1+e^Z), it will give the prob that the new point is in \n",
    "#class O.\n",
    "def sigmoid_value(Z):\n",
    "    return 1.0/np.add(1, np.exp(-Z))\n",
    "\n",
    "print \"Prob. that (0,8) is in class X = \", sigmoid_value(return_Z(0,8))\n",
    "\n",
    "#this is nearly on the discriminant line, since it's nearly equal to the intercept, so the probability \n",
    "#nears 0.5, since there is nearly equal probablity that the new point is an X or an O\n",
    "print \"prob. that \"sigmoid_value(return_Z(0,0.799999))"
   ]
  },
  {
   "cell_type": "code",
   "execution_count": null,
   "metadata": {},
   "outputs": [],
   "source": []
  }
 ],
 "metadata": {
  "kernelspec": {
   "display_name": "Python 2",
   "language": "python",
   "name": "python2"
  },
  "language_info": {
   "codemirror_mode": {
    "name": "ipython",
    "version": 2
   },
   "file_extension": ".py",
   "mimetype": "text/x-python",
   "name": "python",
   "nbconvert_exporter": "python",
   "pygments_lexer": "ipython2",
   "version": "2.7.12"
  }
 },
 "nbformat": 4,
 "nbformat_minor": 2
}
