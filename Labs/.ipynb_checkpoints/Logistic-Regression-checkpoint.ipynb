{
 "cells": [
  {
   "cell_type": "code",
   "execution_count": 5,
   "metadata": {},
   "outputs": [],
   "source": [
    "import numpy as np\n",
    "import matplotlib.pyplot as plt\n",
    "import scipy.stats as stats\n",
    "import random\n",
    "import math as math\n",
    "import os \n",
    "import sys"
   ]
  },
  {
   "cell_type": "code",
   "execution_count": 24,
   "metadata": {},
   "outputs": [
    {
     "data": {
      "text/plain": [
       "<function matplotlib.pyplot.show>"
      ]
     },
     "execution_count": 24,
     "metadata": {},
     "output_type": "execute_result"
    },
    {
     "data": {
      "image/png": "[encoded data removed]",
      "text/plain": [
       "<matplotlib.figure.Figure at 0xbcc0438>"
      ]
     },
     "metadata": {},
     "output_type": "display_data"
    }
   ],
   "source": [
    "#CLASS 0\n",
    "x1_0 = [1.0,0.6,1.7,2.0,2.5,2.8,1.7,0.8,2.3,2.6,1.5]\n",
    "x2_0 = [1.9,2.0,2.1,3.0,4.1,5.3,2.9,1.2,2.0,3.0,1.0]\n",
    "t_0 =  [0.0,0.0,0.0,0.0,0.0,0.0,0.0,0.0,0.0,0.0,0.0]\n",
    "#CLASS 1\n",
    "x1_1 = [0.7,1.2,1.6,1.9,2.3,2.7,0.6,0.9,1.5,2.2,2.5]\n",
    "x2_1 = [2.1,2.2,2.4,3.1,3.5,5.0,3.0,3.3,3.2,4.0,5.1]\n",
    "t_1 =  [1.0,1.0,1.0,1.0,1.0,1.0,1.0,1.0,1.0,1.0,1.0]\n",
    "\n",
    "plt.figure(figsize=(10,10))\n",
    "plt.grid(color='b', linestyle='-', linewidth=2)\n",
    "plt.scatter(x1_0,x2_0,marker = 'o',edgecolors='y')\n",
    "plt.scatter(x1_1,x2_1,marker = 'x',edgecolors='r')\n",
    "x = np.arange(0,3,0.1)\n",
    "y = np.array([])\n",
    "for i in range(0,len(x)):\n",
    "    y = np.append(y,1*x[i]+1)\n",
    "plt.plot(x,y)\n",
    "plt.show"
   ]
  },
  {
   "cell_type": "code",
   "execution_count": 25,
   "metadata": {},
   "outputs": [
    {
     "name": "stdout",
     "output_type": "stream",
     "text": [
      "ERRORS 27.2727272727\n",
      "output 0.9990889488055994\n"
     ]
    }
   ],
   "source": [
    "print 'ERRORS', (6.0/22)*100\n",
    "w0_r = -1\n",
    "w1_r = -1\n",
    "w2_r = 1\n",
    "z = 8*1+(-1)\n",
    "y = 1.0/(1.0+np.exp(-z))\n",
    "print 'output',y\n",
    "# X2*w2 - w0 - w1*X1 = Z \n"
   ]
  },
  {
   "cell_type": "code",
   "execution_count": 34,
   "metadata": {},
   "outputs": [
    {
     "name": "stdout",
     "output_type": "stream",
     "text": [
      "11.0\n"
     ]
    }
   ],
   "source": [
    "x1 = np.array([])\n",
    "x1 = np.append(x1,x1_0)\n",
    "x1 = np.append(x1,x1_1)\n",
    "\n",
    "x2 = np.array([])\n",
    "x2 = np.append(x2,x2_0)\n",
    "x2 = np.append(x2,x2_1)\n",
    "\n",
    "t = np.array([])\n",
    "t = np.append(t,t_0)\n",
    "t = np.append(t,t_1)\n",
    "\n",
    "print(np.sum(t))\n",
    "w0 = [0.0]\n",
    "w1 = [0.0]\n",
    "w2 = [0.0]\n",
    "y = []\n",
    "m = 22\n",
    "i = 0"
   ]
  },
  {
   "cell_type": "code",
   "execution_count": 35,
   "metadata": {},
   "outputs": [],
   "source": [
    "def calc_Z(k): \n",
    "    global w0_res,w1_res,w2_res\n",
    "    return float(w0_res + w1_res*x1[k] + w2_res*x2[k])\n",
    "\n",
    "def calc_y():\n",
    "    global y\n",
    "    for k in range(0,22):\n",
    "        y.append(1.0/(1.0+np.exp(-calc_Z(k))))\n",
    "    return\n",
    "\n",
    "def calc_y_t_sub():\n",
    "    return np.sum(y) - np.sum(t)\n",
    "def calc_y_times_x1():\n",
    "    temp = []\n",
    "    for c in range(0,22):\n",
    "        temp.append(y[c]*x1[c])\n",
    "    return np.sum(temp)    \n",
    "\n",
    "def calc_t_times_x1():\n",
    "    temp = []\n",
    "    for c in range(0,22):\n",
    "        temp.append(t[c]*x2[c])   \n",
    "    return np.sum(temp)\n",
    "\n",
    "def calc_y_times_x2():\n",
    "    temp = []\n",
    "    for c in range(0,22):\n",
    "        temp.append(y[c]*x2[c])   \n",
    "    return np.sum(temp)    \n",
    "\n",
    "def calc_t_times_x2():\n",
    "    temp = []\n",
    "    for c in range(0,22):\n",
    "        temp.append(t[c]*x2[c])\n",
    "    return np.sum(temp)\n",
    "        \n",
    "    \n"
   ]
  },
  {
   "cell_type": "code",
   "execution_count": 36,
   "metadata": {},
   "outputs": [],
   "source": [
    "def calc_w0():\n",
    "    return (1.0/2*m)*(calc_y_t_sub())\n",
    "\n",
    "def calc_w1(): \n",
    "    return (1.0/2*m)*(calc_y_times_x1()-calc_t_times_x1())\n",
    "\n",
    "def calc_w2():  \n",
    "    return (1.0/2*m)*(calc_y_times_x2()-calc_t_times_x2())"
   ]
  },
  {
   "cell_type": "code",
   "execution_count": 39,
   "metadata": {},
   "outputs": [
    {
     "name": "stdout",
     "output_type": "stream",
     "text": [
      "[0.36354294986910235, 0.04241156096783405, 0.9508551055548274, 0.9171967890301961, 0.9234996735003063, 0.7634087897076729, 0.7173666390556149, 0.5164183141677506, 0.9987346092468912, 0.9971553898230409, 0.990086365868689, 0.057588440361507565, 0.4575624044950113, 0.8355021972713679, 0.8285222671961868, 0.94597134796589, 0.7953320882689383, 0.0034845097816109246, 0.009100293147918293, 0.2725372866552079, 0.734476914262849, 0.4879861163374936, 0.47502081252106, 0.598687660112452, 0.35434369377420455, 0.5, 0.6456563062257954, 0.8175744761936437, 0.5498339973124778, 0.35434369377420455, 0.21416501695744142, 0.35434369377420455, 0.18242552380635635, 0.5986876601124521, 0.5, 0.45016600268752205, 0.549833997312478, 0.549833997312478, 0.7858349830425586, 0.8021838885585817, 0.8021838885585817, 0.6681877721681662, 0.6899744811276125, 0.8320183851339245, 0.47502081252106, 0.598687660112452, 0.35434369377420455, 0.5, 0.6456563062257954, 0.8175744761936437, 0.5498339973124778, 0.35434369377420455, 0.21416501695744142, 0.35434369377420455, 0.18242552380635635, 0.5986876601124521, 0.5, 0.45016600268752205, 0.549833997312478, 0.549833997312478, 0.7858349830425586, 0.8021838885585817, 0.8021838885585817, 0.6681877721681662, 0.6899744811276125, 0.8320183851339245]\n"
     ]
    }
   ],
   "source": [
    "w0_res = -1\n",
    "w1_res = -1\n",
    "w2_res = 1\n",
    "alpha = 0.0001\n",
    "def Log_Gradient_Decent():\n",
    "    global i,w0,w1,w2,w0_res,w1_res,w2_res,y\n",
    "    calc_y()\n",
    "    while(i < 1000):\n",
    "        y=[]\n",
    "        calc_y()\n",
    "        \n",
    "        w0_res = w0_res - alpha*calc_w0();\n",
    "        w1_res = w1_res - alpha*calc_w1();\n",
    "        w2_res = w2_res - alpha*calc_w2();\n",
    "        \n",
    "        i+=1\n",
    "    return     \n",
    "\n",
    "Log_Gradient_Decent()    \n",
    "print(y)"
   ]
  },
  {
   "cell_type": "code",
   "execution_count": 78,
   "metadata": {},
   "outputs": [
    {
     "name": "stdout",
     "output_type": "stream",
     "text": [
      "-0.6053060231967771\n",
      "2.524426611439891\n",
      "-1.026914697817498\n"
     ]
    }
   ],
   "source": [
    "print w0_res\n",
    "print w1_res\n",
    "print w2_res"
   ]
  },
  {
   "cell_type": "code",
   "execution_count": 61,
   "metadata": {},
   "outputs": [
    {
     "name": "stdout",
     "output_type": "stream",
     "text": [
      "[0.9776480881292786, 0.9684251071583851, 0.9911579142272303, 0.9970338352738269, 0.9993292668210805, 0.9998267535083888, 0.995512628641897, 0.9507713919029729, 0.995005493318078, 0.998465329027632, 0.9723634923704945, 0.9738829708016112, 0.9859966626160646, 0.9923492861645342, 0.9969597787454283, 0.9986062449246934, 0.9997501917991326, 0.986300590504022, 0.9923304068455897, 0.9956700118854378, 0.9989840797446623, 0.9997141529376596]\n",
      "-1.05634572875\n",
      "-1.10069124226\n",
      "0.853235825138\n"
     ]
    }
   ],
   "source": [
    "m = 22\n",
    "al = 0.0001\n",
    "\n",
    "X_1 = [1, 0.6, 1.7, 2, 2.5, 2.8, 1.7, 0.8, 2.3, 2.6, 1.5, 0.7, 1.2, 1.6, 1.9, 2.3, 2.7, 0.6, 0.9, 1.5, 2.2, 2.5]\n",
    "X_2 = [1.9, 2, 2.1, 3, 4.1, 5.3, 2.9, 1.2, 2, 3, 1, 2.1, 2.2, 2.4, 3.1, 3.5, 5.0, 3.0, 3.3, 3.2, 4.0, 5.1]\n",
    "\n",
    "def errf_deriv_w0(ys):\n",
    "    t = 0\n",
    "    tmp_sum = 0.0;\n",
    "    for i in range (0,m):\n",
    "        if(i >= 11):\n",
    "            t = 1\n",
    "        tmp_sum += (ys[i] - t)\n",
    "    tmp = float(1.0/(2*float(m)))\n",
    "    return tmp*float(tmp_sum)\n",
    "\n",
    "def errf_deriv_w1(ys):\n",
    "    t = 0\n",
    "    tmp_sum = 0.0;\n",
    "    for i in range (0,m):\n",
    "        if(i >= 11):\n",
    "            t = 1\n",
    "        tmp_sum += (ys[i] - t)*X_1[i]\n",
    "    tmp = float(1.0/(2*float(m)))\n",
    "    return tmp*float(tmp_sum)\n",
    "\n",
    "def errf_deriv_w2(ys):\n",
    "    t = 0\n",
    "    tmp_sum = 0.0;\n",
    "    for i in range (0,m):\n",
    "        if(i >= 11):\n",
    "            t = 1\n",
    "        tmp_sum += (ys[i] - t)*X_2[i]\n",
    "    tmp = float(1.0/(2*float(m)))\n",
    "    return tmp*float(tmp_sum)\n",
    "\n",
    "w_0_res = [-1]\n",
    "w_1_res = [-1]\n",
    "w_2_res = [1]\n",
    "\n",
    "w_0_next = 0\n",
    "w_1_next = 0\n",
    "w_2_next = 0\n",
    "\n",
    "for j in range (0, 2300):\n",
    "    tmp_ys = []\n",
    "\n",
    "    for i in range (0, m):\n",
    "        Z = (w_2_res[j]*float(X_2[i]) - (w_1_res[j]*float(X_1[i])) - w_0_res[j])\n",
    "        tmp_ys.append(1.0/(1+ (math.e ** -Z)))\n",
    "      \n",
    "    w_0_next = w_0_res[j] - al*errf_deriv_w0(tmp_ys)\n",
    "    w_1_next = w_1_res[j] - al*errf_deriv_w1(tmp_ys)\n",
    "    w_2_next = w_2_res[j] - al*errf_deriv_w2(tmp_ys)\n",
    "\n",
    "    w_0_res.append(w_0_next)\n",
    "    w_1_res.append(w_1_next)\n",
    "    w_2_res.append(w_2_next)\n",
    "print tmp_ys     \n",
    "print w_0_res[len(w_0_res)-1]\n",
    "print w_1_res[len(w_0_res)-1]\n",
    "print w_2_res[len(w_0_res)-1]"
   ]
  },
  {
   "cell_type": "code",
   "execution_count": null,
   "metadata": {},
   "outputs": [],
   "source": []
  }
 ],
 "metadata": {
  "kernelspec": {
   "display_name": "Python 2",
   "language": "python",
   "name": "python2"
  },
  "language_info": {
   "codemirror_mode": {
    "name": "ipython",
    "version": 2
   },
   "file_extension": ".py",
   "mimetype": "text/x-python",
   "name": "python",
   "nbconvert_exporter": "python",
   "pygments_lexer": "ipython2",
   "version": "2.7.12"
  }
 },
 "nbformat": 4,
 "nbformat_minor": 2
}
