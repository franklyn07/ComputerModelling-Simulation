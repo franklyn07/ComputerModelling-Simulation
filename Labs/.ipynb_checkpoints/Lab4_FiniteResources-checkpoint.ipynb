{
 "cells": [
  {
   "cell_type": "code",
   "execution_count": 1,
   "metadata": {},
   "outputs": [],
   "source": [
    "#Create a next event simulation with finite resources"
   ]
  },
  {
   "cell_type": "code",
   "execution_count": 2,
   "metadata": {},
   "outputs": [],
   "source": [
    "import numpy as np\n",
    "import matplotlib.pyplot as plt\n",
    "import scipy.stats as stats\n",
    "import time"
   ]
  },
  {
   "cell_type": "code",
   "execution_count": 1,
   "metadata": {},
   "outputs": [
    {
     "name": "stdout",
     "output_type": "stream",
     "text": [
      "[(0, 0)]\n",
      "0\n",
      "[(1, 0), (0, 0.5)]\n",
      "0\n",
      "[(0, 0.5), (2, 1.0)]\n",
      "0\n",
      "[(1, 0.5), (2, 1.0), (0, 1.9)]\n",
      "0\n",
      "[(2, 0.7), (2, 1.0), (0, 1.9)]\n",
      "0\n",
      "[(2, 1.0), (0, 1.9)]\n",
      "0\n",
      "[(0, 1.9)]\n",
      "0\n",
      "[(1, 1.9), (0, 2.0)]\n",
      "0\n",
      "[(0, 2.0), (2, 2.7)]\n",
      "0\n",
      "[(1, 2.0), (2, 2.7), (0, 3.7)]\n",
      "0\n",
      "[(2, 2.7), (2, 2.8), (0, 3.7)]\n",
      "0\n",
      "[(2, 2.8), (0, 3.7)]\n",
      "0\n",
      "[(0, 3.7)]\n",
      "0\n",
      "[(1, 3.7), (0, 4.5)]\n",
      "0\n",
      "[(2, 4.1000000000000005), (0, 4.5)]\n",
      "0\n",
      "[(0, 4.5)]\n",
      "0\n",
      "[(1, 4.5), (0, 4.6)]\n",
      "0\n",
      "[(0, 4.6), (2, 5.0)]\n",
      "0\n",
      "[(1, 4.6), (0, 4.699999999999999), (2, 5.0)]\n",
      "0\n",
      "[(0, 4.699999999999999), (2, 5.0), (2, 5.0)]\n",
      "0\n",
      "[(2, 5.0), (2, 5.0), (0, 7.299999999999999)]\n",
      "1\n",
      "[(2, 5.0), (0, 7.299999999999999)]\n",
      "1\n",
      "[(0, 7.299999999999999)]\n",
      "1\n",
      "[(1, 7.299999999999999), (0, 10.799999999999999)]\n",
      "1\n",
      "[(2, 9.899999999999999), (0, 10.799999999999999)]\n",
      "1\n",
      "[(0, 10.799999999999999)]\n",
      "1\n",
      "[(1, 10.799999999999999), (0, 10.999999999999998)]\n",
      "1\n",
      "[(0, 10.999999999999998), (2, 11.299999999999999)]\n",
      "1\n",
      "[(1, 10.999999999999998), (2, 11.299999999999999)]\n",
      "1\n",
      "[(2, 10.999999999999998), (2, 11.299999999999999)]\n",
      "1\n",
      "[(2, 11.299999999999999)]\n",
      "1\n"
     ]
    }
   ],
   "source": [
    "# General Definitions\n",
    "# Arrival = 0\n",
    "# Begin Service = 1\n",
    "# End Service = 2\n",
    "Resources = 2\n",
    "Blocked = 0\n",
    "\n",
    "#list that contains arrival times (for dry run purposes)\n",
    "interarrival = [0.5, 1.4, 0.1, 1.7, 0.8, 0.1, 0.1, 2.6, 3.5, 0.2]\n",
    "\n",
    "#list that contains service times (for dry run purposes)\n",
    "service = [1.0, 0.2, 0.8, 0.8, 0.4, 0.5, 0.4, 2.6, 0.5, 0]\n",
    "\n",
    "#list that contains events\n",
    "event_list = [(0,0)]\n",
    "\n",
    "#System clock\n",
    "Now = 0\n",
    "\n",
    "#Simulation running\n",
    "sim_run = True\n",
    "\n",
    "def get_iat():\n",
    "    #to change to random, rather than using the list use the following dists\n",
    "    #-7*np.log(np.random.rand())\n",
    "    global interarrival\n",
    "    return interarrival.pop(0)\n",
    "\n",
    "def get_service():\n",
    "    #to change to random, rather than using the list use the following dists\n",
    "    #-143*np.log(np.random.rand())\n",
    "    global service\n",
    "    return service.pop(0)\n",
    "\n",
    "def schedule(type_of_event,time_of_event):\n",
    "    global event_list\n",
    "    event_list.append((type_of_event, time_of_event))\n",
    "    event_list = sorted(event_list, key=lambda x: x[1])\n",
    "    \n",
    "def arrival():\n",
    "    global Resources\n",
    "    global Blocked\n",
    "    if(len(interarrival)!=0):\n",
    "        schedule(0, Now + get_iat())\n",
    "    if (Resources>0):\n",
    "        schedule(1,Now)\n",
    "    else:\n",
    "        Blocked +=1\n",
    "             \n",
    "def start_service():\n",
    "    global Resources\n",
    "    Resources -= 1\n",
    "    if(len(service)!=0):\n",
    "        schedule(2,Now+get_service())\n",
    "             \n",
    "def end_service():\n",
    "    global Resources\n",
    "    Resources += 1\n",
    "\n",
    "#General clock\n",
    "while(len(event_list)!=0 and Now < 1000):\n",
    "    print event_list\n",
    "    print Blocked\n",
    "    current_event = event_list.pop(0)\n",
    "    \n",
    "    Now = current_event[1]\n",
    "             \n",
    "    if(current_event[0]==0):\n",
    "        arrival()\n",
    "    elif(current_event[0]==1):\n",
    "        start_service()\n",
    "    elif(current_event[0]==2):\n",
    "        end_service()\n"
   ]
  },
  {
   "cell_type": "code",
   "execution_count": 2,
   "metadata": {},
   "outputs": [
    {
     "ename": "IndexError",
     "evalue": "pop from empty list",
     "output_type": "error",
     "traceback": [
      "\u001b[0;31m---------------------------------------------------------------------------\u001b[0m",
      "\u001b[0;31mIndexError\u001b[0m                                Traceback (most recent call last)",
      "\u001b[0;32m<ipython-input-2-b804eb9c9233>\u001b[0m in \u001b[0;36m<module>\u001b[0;34m()\u001b[0m\n\u001b[0;32m----> 1\u001b[0;31m \u001b[0;32mprint\u001b[0m \u001b[0mget_iat\u001b[0m\u001b[0;34m(\u001b[0m\u001b[0;34m)\u001b[0m\u001b[0;34m\u001b[0m\u001b[0m\n\u001b[0m",
      "\u001b[0;32m<ipython-input-1-6d0ee2e60b0c>\u001b[0m in \u001b[0;36mget_iat\u001b[0;34m()\u001b[0m\n\u001b[1;32m     25\u001b[0m     \u001b[0;31m#-7*np.log(np.random.rand())\u001b[0m\u001b[0;34m\u001b[0m\u001b[0;34m\u001b[0m\u001b[0m\n\u001b[1;32m     26\u001b[0m     \u001b[0;32mglobal\u001b[0m \u001b[0minterarrival\u001b[0m\u001b[0;34m\u001b[0m\u001b[0m\n\u001b[0;32m---> 27\u001b[0;31m     \u001b[0;32mreturn\u001b[0m \u001b[0minterarrival\u001b[0m\u001b[0;34m.\u001b[0m\u001b[0mpop\u001b[0m\u001b[0;34m(\u001b[0m\u001b[0;36m0\u001b[0m\u001b[0;34m)\u001b[0m\u001b[0;34m\u001b[0m\u001b[0m\n\u001b[0m\u001b[1;32m     28\u001b[0m \u001b[0;34m\u001b[0m\u001b[0m\n\u001b[1;32m     29\u001b[0m \u001b[0;32mdef\u001b[0m \u001b[0mget_service\u001b[0m\u001b[0;34m(\u001b[0m\u001b[0;34m)\u001b[0m\u001b[0;34m:\u001b[0m\u001b[0;34m\u001b[0m\u001b[0m\n",
      "\u001b[0;31mIndexError\u001b[0m: pop from empty list"
     ]
    }
   ],
   "source": [
    "print get_iat()"
   ]
  },
  {
   "cell_type": "code",
   "execution_count": null,
   "metadata": {},
   "outputs": [],
   "source": [
    "print arrival"
   ]
  },
  {
   "cell_type": "code",
   "execution_count": null,
   "metadata": {},
   "outputs": [],
   "source": []
  }
 ],
 "metadata": {
  "kernelspec": {
   "display_name": "Python 2",
   "language": "python",
   "name": "python2"
  },
  "language_info": {
   "codemirror_mode": {
    "name": "ipython",
    "version": 2
   },
   "file_extension": ".py",
   "mimetype": "text/x-python",
   "name": "python",
   "nbconvert_exporter": "python",
   "pygments_lexer": "ipython2",
   "version": "2.7.12"
  }
 },
 "nbformat": 4,
 "nbformat_minor": 2
}
