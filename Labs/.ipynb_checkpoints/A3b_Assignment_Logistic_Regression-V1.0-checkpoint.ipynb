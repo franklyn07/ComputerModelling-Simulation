{
 "cells": [
  {
   "cell_type": "markdown",
   "metadata": {},
   "source": [
    "# Assignment - Logistic Regression\n",
    "### Year 2017-2018  - Semester II\n",
    "### CCE3501 / CCE3502\n",
    "#### Originally devloped by - Adrian Muscat, 2018\n",
    "---\n",
    "# Brandon Abela, 27498M and BSC Computer Science, Year 2\n",
    "---\n"
   ]
  },
  {
   "cell_type": "markdown",
   "metadata": {},
   "source": [
    "A system measures the width and length in centimetres of two fish species, spnott and awrat.  The results are given in a csv (comma separated) text file. In this assignment you will develop a linear discriminant function and a logistic regressor that model the data. \n",
    "\n",
    "\n",
    "We first load the dataset and print the first 10 entries to get a handle on the data. The length is given in the 1st column, the width is given in the second column and the species is given in the third column.\n",
    "\n",
    "What is the size of the dataset and the class distribution?\n",
    "\n",
    "Plot a scatter-plot that depicts type_A as a blue dot and type_B as a red dot.\n",
    "As you can see we have to use both input variables, since any variable on its own does not provide enough discrimination power.\n",
    "\n",
    "Check whether the two input variables are correlated.\n",
    "\n",
    "We will now split the dataset into two parts. One part is called the training set and the other part is called the test set.\n",
    "\n",
    "Plot a scatter-plot for the training set and on the same plot add a green line and randomly optimise the gradient and intercept coefficients to minimize the overall classification error.\n",
    "\n",
    "Repeat above optimisation to balance the classification error in each class.\n",
    "\n",
    "Code the gradient descent algorithm to minimize the cross-entropy cost function in a logistic regression model\n",
    "\n",
    "What is the overall classification rate and the class classification rate\n",
    "\n",
    "CCE3501 only \n",
    "Compare these results with the ones obtained with the random search in task 3."
   ]
  },
  {
   "cell_type": "code",
   "execution_count": 1,
   "metadata": {},
   "outputs": [],
   "source": [
    "# import useful libraries\n",
    "import numpy as np\n",
    "import matplotlib.pyplot as plt\n",
    "import scipy.stats as stats\n",
    "import csv\n",
    "# this line plots graphs in line\n",
    "%matplotlib inline"
   ]
  },
  {
   "cell_type": "markdown",
   "metadata": {},
   "source": [
    "## We first load the dataset and print the first 10 entries.  The length is given in the 1st column, the width is given in the second column and the species is given in the third column.\n"
   ]
  },
  {
   "cell_type": "code",
   "execution_count": 3,
   "metadata": {},
   "outputs": [
    {
     "name": "stdout",
     "output_type": "stream",
     "text": [
      "['Length', ' Width', ' Class(0=spnott', ' 1=awrat)']\n"
     ]
    },
    {
     "data": {
      "text/plain": [
       "array([[ 30.14,  10.27,   1.  ],\n",
       "       [ 18.28,   7.5 ,   1.  ],\n",
       "       [ 41.39,  10.04,   0.  ],\n",
       "       [ 19.19,   7.7 ,   1.  ],\n",
       "       [ 40.22,  13.07,   0.  ],\n",
       "       [ 31.63,  14.27,   1.  ],\n",
       "       [ 37.43,   9.29,   0.  ],\n",
       "       [ 17.11,   6.8 ,   1.  ],\n",
       "       [ 39.5 ,  11.47,   0.  ],\n",
       "       [ 29.22,  13.18,   1.  ]])"
      ]
     },
     "execution_count": 3,
     "metadata": {},
     "output_type": "execute_result"
    }
   ],
   "source": [
    "# DO NOT MODIFY THIS CELL\n",
    "with open('Fish_Dataset.csv', 'rbU') as f:\n",
    "    reader = csv.reader(f)\n",
    "    data_=[]\n",
    "    for i,row in enumerate(reader):\n",
    "        if i<2 or i==3:\n",
    "            if i==0: print row\n",
    "        else:\n",
    "            data_.append(row)\n",
    "data = np.array(data_,dtype=float)\n",
    "data[0:10]"
   ]
  },
  {
   "cell_type": "markdown",
   "metadata": {},
   "source": [
    "## What is the size of the dataset and the class distribution?\n"
   ]
  },
  {
   "cell_type": "code",
   "execution_count": 4,
   "metadata": {},
   "outputs": [
    {
     "name": "stdout",
     "output_type": "stream",
     "text": [
      "Size of the data set is  198\n",
      "Amount of Spnott is 98 and Amount of Awrat is 100\n"
     ]
    },
    {
     "data": {
      "image/png": "[encoded data removed]",
      "text/plain": [
       "<matplotlib.figure.Figure at 0x7fb9cea68a90>"
      ]
     },
     "metadata": {},
     "output_type": "display_data"
    }
   ],
   "source": [
    "datasetSize = len(data)\n",
    "print \"Size of the data set is \", datasetSize\n",
    "\n",
    "amountOfSpnott = 0\n",
    "amountOfAwrat = 0\n",
    "classifier = []\n",
    "\n",
    "for i in range(len(data)):\n",
    "    classifier.append(data[i][2])\n",
    "    if data[i][2] == 0:\n",
    "        amountOfSpnott += 1\n",
    "    if data[i][2] == 1:\n",
    "        amountOfAwrat += 1\n",
    "\n",
    "print \"Amount of Spnott is\", amountOfSpnott, \"and Amount of Awrat is\", amountOfAwrat\n",
    "\n",
    "plt.hist(classifier, bins=2)\n",
    "plt.title(\"Histogram of the Class Distribution\")\n",
    "plt.xlabel('Class Distribution');\n",
    "plt.ylabel('Frequency');\n"
   ]
  },
  {
   "cell_type": "markdown",
   "metadata": {},
   "source": [
    "## Plot a scatter-plot that depicts spnott as a blue dot and awrat as a red dot. As you will see we have to use both input variables, since any variable on its own does not provide enough discrimination power.\n"
   ]
  },
  {
   "cell_type": "code",
   "execution_count": 5,
   "metadata": {},
   "outputs": [
    {
     "data": {
      "image/png": "[encoded data removed]",
      "text/plain": [
       "<matplotlib.figure.Figure at 0x7fb9ce980f10>"
      ]
     },
     "metadata": {},
     "output_type": "display_data"
    }
   ],
   "source": [
    "spnottLength = [a[0] for a in data if a[2] == 0.0]\n",
    "spnottWidth  = [a[1] for a in data if a[2] == 0.0]\n",
    "\n",
    "awratLength = [a[0] for a in data if a[2] == 1.0]\n",
    "awratWidth  = [a[1] for a in data if a[2] == 1.0]\n",
    "\n",
    "fig = plt.figure()\n",
    "plt.title(\"Scatter plot of the Two Variables\")\n",
    "plt.plot(spnottWidth, spnottLength, 'ro')\n",
    "plt.plot(awratWidth,  awratLength,  'bo')\n",
    "plt.xlabel('Width');\n",
    "plt.ylabel('Length');\n",
    "plt.show()"
   ]
  },
  {
   "cell_type": "markdown",
   "metadata": {},
   "source": [
    "## Comment on whether the two input variables are correlated.\n"
   ]
  },
  {
   "cell_type": "code",
   "execution_count": 6,
   "metadata": {},
   "outputs": [
    {
     "name": "stdout",
     "output_type": "stream",
     "text": [
      "From the pearson coorelation calculation and the histogram generated in the previous question it \n",
      "can be seen that the two variables that are the length and width of the fish are coorelated. This \n",
      "means that as one variable increases the other variable will increase with it. \n",
      "\n",
      "Calculated pearson coorelation:  (0.99789013260549631, 0.041361767527035527)\n"
     ]
    }
   ],
   "source": [
    "print 'From the pearson coorelation calculation and the histogram generated in the previous question it '\n",
    "print 'can be seen that the two variables that are the length and width of the fish are coorelated. This '\n",
    "print 'means that as one variable increases the other variable will increase with it. \\n'\n",
    "\n",
    "print \"Calculated pearson coorelation: \", stats.pearsonr(data[0], data[1])\n"
   ]
  },
  {
   "cell_type": "markdown",
   "metadata": {},
   "source": [
    "## We will now split the dataset into two parts. One part is called the training set and the other part is called the test set.\n"
   ]
  },
  {
   "cell_type": "code",
   "execution_count": 7,
   "metadata": {},
   "outputs": [
    {
     "name": "stdout",
     "output_type": "stream",
     "text": [
      "Split dataset at  138\n",
      "Shape of train =  (138, 3)\n",
      "Shape of test =  (60, 3)\n"
     ]
    }
   ],
   "source": [
    "# DO NOT MODIFY THIS CELL\n",
    "train_split = int(len(data)*0.7)\n",
    "print 'Split dataset at ', train_split\n",
    "d_train=np.array(data[0:train_split,:])\n",
    "d_test = np.array(data[train_split:,:])\n",
    "print 'Shape of train = ',np.shape(d_train)\n",
    "print 'Shape of test = ',np.shape(d_test)"
   ]
  },
  {
   "cell_type": "markdown",
   "metadata": {},
   "source": [
    "## Plot a scatter-plot for the training set and on the same plot add a green line and randomly optimise the gradient and intercept coefficients to minimize the overall classification error.Repeat  optimisation to maximize the overall classification error.\n"
   ]
  },
  {
   "cell_type": "code",
   "execution_count": 8,
   "metadata": {},
   "outputs": [
    {
     "name": "stdout",
     "output_type": "stream",
     "text": [
      "The generated line is y= 0.533333333333 x -6\n"
     ]
    },
    {
     "data": {
      "image/png": "[encoded data removed]",
      "text/plain": [
       "<matplotlib.figure.Figure at 0x7fb9ce93f490>"
      ]
     },
     "metadata": {},
     "output_type": "display_data"
    }
   ],
   "source": [
    "spnottLengthTrain = [a[0] for a in d_train if a[2] == 0.0]\n",
    "spnottWidthTrain  = [a[1] for a in d_train if a[2] == 0.0]\n",
    "\n",
    "awratLengthTrain = [a[0] for a in d_train if a[2] == 1.0]\n",
    "awratWidthTrain  = [a[1] for a in d_train if a[2] == 1.0]\n",
    "\n",
    "lineGradient = float(8)/15\n",
    "lineYIntercept = -6\n",
    "\n",
    "print \"The generated line is y=\", lineGradient, \"x\", lineYIntercept\n",
    "\n",
    "fig = plt.figure()\n",
    "plt.title(\"Scatter plot of the Training Set Variables\")\n",
    "plt.plot(spnottLengthTrain, spnottWidthTrain, 'ro')\n",
    "plt.plot(awratLengthTrain,  awratWidthTrain,  'bo')\n",
    "plt.xlabel('Width');\n",
    "plt.ylabel('Length');\n",
    "plt.plot([15, 45], [2, 18], \"g\")\n",
    "plt.show()\n"
   ]
  },
  {
   "cell_type": "markdown",
   "metadata": {},
   "source": [
    "## Develop a function to predict the class given the weights for a linear discriminant"
   ]
  },
  {
   "cell_type": "code",
   "execution_count": 15,
   "metadata": {},
   "outputs": [
    {
     "name": "stdout",
     "output_type": "stream",
     "text": [
      "0.451321346615\n"
     ]
    }
   ],
   "source": [
    "def predict_y(W,D):\n",
    "    # 1/e^-z and z=c+mx-y\n",
    "    z = np.multiply(W[1],D[0])+W[0]-D[1]\n",
    "    return 1/(1+np.exp(-z))\n",
    "\n",
    "print predict_y([lineYIntercept,lineGradient],[ 30.14,  10.27])\n",
    "print predict_y([lineYIntercept,lineGradient],[ 18.28,   7.5 ])\n"
   ]
  },
  {
   "cell_type": "markdown",
   "metadata": {},
   "source": [
    "## Develop a function to calculate the error, given the predicted values and the data set¶"
   ]
  },
  {
   "cell_type": "code",
   "execution_count": 14,
   "metadata": {},
   "outputs": [
    {
     "name": "stdout",
     "output_type": "stream",
     "text": [
      "1.0 0.451321346615\n",
      "1.0 0.022962408395\n",
      "0.0 0.997611424461\n",
      "1.0 0.0303148619459\n",
      "0.0 0.915341109751\n",
      "1.0 0.0322746362152\n",
      "0.0 0.990739252972\n",
      "1.0 0.0247307382164\n",
      "0.0 0.973316571463\n",
      "1.0 0.0267007482837\n",
      "0.0 0.985504755663\n",
      "1.0 0.0486760896677\n",
      "0.0 0.984449656006\n",
      "1.0 0.0102045291901\n",
      "0.0 0.901736230967\n",
      "1.0 0.0304523437696\n",
      "0.0 0.9510763458\n",
      "1.0 0.0391908183517\n",
      "0.0 0.556589827378\n",
      "1.0 0.0141284812557\n",
      "0.0 0.983973152586\n",
      "1.0 0.126014515283\n",
      "0.0 0.827212628772\n",
      "1.0 0.11650000193\n",
      "0.0 0.930431289954\n",
      "1.0 0.0688386848322\n",
      "0.0 0.990510175313\n",
      "1.0 0.208168626716\n",
      "0.0 0.995006770598\n",
      "1.0 0.059189365045\n",
      "0.0 0.969704729166\n",
      "1.0 0.360314358973\n",
      "0.0 0.917485797232\n",
      "1.0 0.0139714869364\n",
      "0.0 0.958592339682\n",
      "1.0 0.0569291804304\n",
      "0.0 0.996012783273\n",
      "1.0 0.0352977596017\n",
      "0.0 0.996613839425\n",
      "1.0 0.0398487418512\n",
      "0.0 0.998635134147\n",
      "1.0 0.0426966442183\n",
      "0.0 0.950326467677\n",
      "1.0 0.2587133565\n",
      "0.0 0.884729458358\n",
      "1.0 0.0129452063455\n",
      "0.0 0.944099944802\n",
      "1.0 0.00643210846692\n",
      "0.0 0.993830813483\n",
      "1.0 0.12719398101\n",
      "0.0 0.996165979889\n",
      "1.0 0.0260671446986\n",
      "0.0 0.852288830993\n",
      "1.0 0.0422088432586\n",
      "0.0 0.903203174946\n",
      "1.0 0.0637647251579\n",
      "0.0 0.974568345199\n",
      "1.0 0.0162704569241\n",
      "0.0 0.947016367594\n",
      "1.0 0.00293922241567\n",
      "0.0 0.978820889545\n",
      "1.0 0.0341581135085\n",
      "0.0 0.998187679658\n",
      "1.0 0.0486452278027\n",
      "0.0 0.934949786306\n",
      "1.0 0.0288043926305\n",
      "0.0 0.855284778565\n",
      "1.0 0.030928309409\n",
      "0.0 0.777761132572\n",
      "1.0 0.0851250009957\n",
      "0.0 0.789181706522\n",
      "1.0 0.0759985064442\n",
      "0.0 0.956644571354\n",
      "1.0 0.0644848717763\n",
      "0.0 0.88163447118\n",
      "1.0 0.0109435626231\n",
      "0.0 0.694943455775\n",
      "1.0 0.0611113086086\n",
      "0.0 0.934949786306\n",
      "1.0 0.0414606167784\n",
      "0.0 0.971510966503\n",
      "1.0 0.0209727945009\n",
      "0.0 0.97162146758\n",
      "1.0 0.00476348912077\n",
      "0.0 0.937105275063\n",
      "1.0 0.00700106948081\n",
      "0.0 0.929037662477\n",
      "1.0 0.0456221348196\n",
      "0.0 0.878325378084\n",
      "1.0 0.0114377386163\n",
      "0.0 0.535606293595\n",
      "1.0 0.235532008716\n",
      "0.0 0.874132257983\n",
      "1.0 0.132159318273\n",
      "0.0 0.981728996423\n",
      "1.0 0.356023231336\n",
      "0.0 0.994936730197\n",
      "1.0 0.125867742017\n",
      "0.0 0.974601370811\n",
      "1.0 0.0245066221191\n",
      "0.0 0.98597330066\n",
      "1.0 0.292211665136\n",
      "0.0 0.57085327376\n",
      "1.0 0.0407511423171\n",
      "0.0 0.477016208948\n",
      "1.0 0.604599401171\n",
      "0.0 0.857416988378\n",
      "1.0 0.0428057736097\n",
      "0.0 0.917485797232\n",
      "1.0 0.190823728547\n",
      "0.0 0.998331232854\n",
      "1.0 0.14545944202\n",
      "0.0 0.987274412953\n",
      "1.0 0.0356627850036\n",
      "0.0 0.493000457297\n",
      "1.0 0.0205794792169\n",
      "0.0 0.953172860464\n",
      "1.0 0.0094460593636\n",
      "0.0 0.978751677289\n",
      "1.0 0.488335450156\n",
      "0.0 0.918589369075\n",
      "1.0 0.0479100904954\n",
      "0.0 0.992891522523\n",
      "1.0 0.016812673904\n",
      "0.0 0.96566549487\n",
      "1.0 0.174029629396\n",
      "0.0 0.579324252149\n",
      "1.0 0.382567021873\n",
      "0.0 0.953143095234\n",
      "1.0 0.0225767313859\n",
      "0.0 0.816777680781\n",
      "1.0 0.0576130605314\n",
      "0.0 0.706684052335\n",
      "1.0 0.0214432962661\n",
      "0.0 0.963619607847\n",
      "1.0 0.013519639646\n",
      "0.0 0.846316745781\n",
      "1.0 0.0693962976339\n",
      "0.978260869565\n"
     ]
    }
   ],
   "source": [
    "def get_error(D,Y):\n",
    "    numberOfErrors = 0\n",
    "    \n",
    "    for aData in D:\n",
    "        print aData[2], predict_y(Y, [aData[0], aData[1]])\n",
    "        if (aData[2] != round(predict_y(Y, [aData[0], aData[1]]), 0)):\n",
    "            numberOfErrors += 1\n",
    "    \n",
    "    return float(numberOfErrors)/len(D)\n",
    "\n",
    "print get_error(d_train, [lineYIntercept, lineGradient])\n"
   ]
  },
  {
   "cell_type": "markdown",
   "metadata": {},
   "source": [
    "## Develop a function to calculate the classification accuracy, given the predicted values and the data set "
   ]
  },
  {
   "cell_type": "code",
   "execution_count": 10,
   "metadata": {},
   "outputs": [
    {
     "ename": "SyntaxError",
     "evalue": "invalid syntax (<ipython-input-10-d81ae90c6c8e>, line 2)",
     "output_type": "error",
     "traceback": [
      "\u001b[0;36m  File \u001b[0;32m\"<ipython-input-10-d81ae90c6c8e>\"\u001b[0;36m, line \u001b[0;32m2\u001b[0m\n\u001b[0;31m    ...\u001b[0m\n\u001b[0m    ^\u001b[0m\n\u001b[0;31mSyntaxError\u001b[0m\u001b[0;31m:\u001b[0m invalid syntax\n"
     ]
    }
   ],
   "source": [
    "def get_accuracy(D,Y):\n",
    " ..."
   ]
  },
  {
   "cell_type": "markdown",
   "metadata": {},
   "source": [
    "## Use a Monte-Carlo search method (random search) to find the weight vector that minimizes the overall classification error and plot the resulting decision boundary on top of the dataset."
   ]
  },
  {
   "cell_type": "code",
   "execution_count": null,
   "metadata": {},
   "outputs": [],
   "source": [
    "..."
   ]
  },
  {
   "cell_type": "code",
   "execution_count": null,
   "metadata": {},
   "outputs": [],
   "source": [
    "..."
   ]
  },
  {
   "cell_type": "markdown",
   "metadata": {},
   "source": [
    "## What is the overall classification accuracy and the class classification accuracy on the test set?\n"
   ]
  },
  {
   "cell_type": "code",
   "execution_count": null,
   "metadata": {},
   "outputs": [],
   "source": [
    "..."
   ]
  },
  {
   "cell_type": "markdown",
   "metadata": {},
   "source": [
    "\n"
   ]
  },
  {
   "cell_type": "markdown",
   "metadata": {},
   "source": [
    "## The remaining  questions are only for CCE3501 students\n"
   ]
  },
  {
   "cell_type": "markdown",
   "metadata": {},
   "source": [
    "## Code the gradient descent algorithm to minimize the cross-entropy cost function in a logistic regression model. "
   ]
  },
  {
   "cell_type": "code",
   "execution_count": null,
   "metadata": {},
   "outputs": [],
   "source": []
  },
  {
   "cell_type": "markdown",
   "metadata": {
    "collapsed": true
   },
   "source": [
    "## Is there any significant difference between the results with the ones obtained with the random search and the results obtained using gradient descent?."
   ]
  },
  {
   "cell_type": "code",
   "execution_count": null,
   "metadata": {},
   "outputs": [],
   "source": []
  }
 ],
 "metadata": {
  "kernelspec": {
   "display_name": "Python 2",
   "language": "python",
   "name": "python2"
  },
  "language_info": {
   "codemirror_mode": {
    "name": "ipython",
    "version": 2
   },
   "file_extension": ".py",
   "mimetype": "text/x-python",
   "name": "python",
   "nbconvert_exporter": "python",
   "pygments_lexer": "ipython2",
   "version": "2.7.12"
  }
 },
 "nbformat": 4,
 "nbformat_minor": 1
}
