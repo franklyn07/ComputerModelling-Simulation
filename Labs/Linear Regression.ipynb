{
 "cells": [
  {
   "cell_type": "code",
   "execution_count": 12,
   "metadata": {
    "scrolled": true
   },
   "outputs": [
    {
     "data": {
      "image/png": "[encoded data removed]",
      "text/plain": [
       "<matplotlib.figure.Figure at 0x7f0680d32710>"
      ]
     },
     "metadata": {},
     "output_type": "display_data"
    },
    {
     "data": {
      "image/png": "[encoded data removed]",
      "text/plain": [
       "<matplotlib.figure.Figure at 0x7f0680c4ec10>"
      ]
     },
     "metadata": {},
     "output_type": "display_data"
    }
   ],
   "source": [
    "import numpy as np\n",
    "import matplotlib.pyplot as plt\n",
    "import scipy.stats as stats\n",
    "\n",
    "x = [2,3,6,10,13,17,18,25]\n",
    "y = [0.5,0.9,0.7,1.3,1.9,1.4,2.3,2.2]\n",
    "\n",
    "#A)plotting equation and approximation of line of best fit(calculated on your eyes)\n",
    "plt.plot(x, y, 'ro')\n",
    "plt.axis([0, 30, 0, 2.5])\n",
    "plt.plot(x, np.add(np.multiply(0.8/8,x),0.3), linestyle='-')\n",
    "plt.show()\n",
    "\n",
    "#B)plotting equation using analytically minimized error function \n",
    "plt.plot(x, y, 'ro')\n",
    "plt.axis([0, 30, 0, 2.5])\n",
    "plt.plot(x, np.add(np.multiply(0.0757425,x),0.509966), linestyle='-')\n",
    "plt.show()\n"
   ]
  },
  {
   "cell_type": "code",
   "execution_count": 35,
   "metadata": {},
   "outputs": [
    {
     "name": "stdout",
     "output_type": "stream",
     "text": [
      "W0:  0.509918581032\n",
      "W1:  0.0757504242463\n"
     ]
    }
   ],
   "source": [
    "#C)Calculating the gradient descent\n",
    "def update_weights(w0, w1, X, Y, learning_rate):\n",
    "    w0_deriv = 0\n",
    "    w1_deriv = 0\n",
    "    N = len(X)\n",
    "    for i in range(N):\n",
    "        #Partial Derivative of w1\n",
    "        w1_deriv += -2*X[i] * (Y[i] - (w1*X[i] + w0))\n",
    "        \n",
    "        #Partial Derivative of w0\n",
    "        w0_deriv += -2*(Y[i] - (w1*X[i] + w0))\n",
    "\n",
    "    # We subtract because the derivatives point in direction of steepest ascent\n",
    "    w0 -= (w0_deriv) * learning_rate\n",
    "    w1 -= (w1_deriv) * learning_rate\n",
    "\n",
    "    return w0, w1\n",
    "\n",
    "w0_currentFirst, w1_currentFirst = update_weights(0.509966,0.0757425, x, y, 0.0001)\n",
    "w0_currentSecond, w1_currentSecond = update_weights(w0_currentFirst,w1_currentFirst, x, y, 0.0001)\n",
    "\n",
    "def teachMethod(iterations,w0, w1, X, Y, learning_rate):\n",
    "    count = 0\n",
    "    w0_current, w1_current = update_weights(w0, w1, X, Y, learning_rate)\n",
    "    while (count < iterations):\n",
    "        w0_current, w1_current = update_weights(w0_current,w1_current, X, Y, learning_rate)\n",
    "        count+=1\n",
    "    return w0_current, w1_current\n",
    "\n",
    "w0_updated, w1_updated = teachMethod(20000,0, 0, x, y, 0.0001)\n",
    "\n",
    "print \"W0: \", w0_updated\n",
    "print \"W1: \", w1_updated"
   ]
  },
  {
   "cell_type": "code",
   "execution_count": null,
   "metadata": {},
   "outputs": [],
   "source": []
  },
  {
   "cell_type": "code",
   "execution_count": null,
   "metadata": {},
   "outputs": [],
   "source": []
  }
 ],
 "metadata": {
  "kernelspec": {
   "display_name": "Python 2",
   "language": "python",
   "name": "python2"
  },
  "language_info": {
   "codemirror_mode": {
    "name": "ipython",
    "version": 2
   },
   "file_extension": ".py",
   "mimetype": "text/x-python",
   "name": "python",
   "nbconvert_exporter": "python",
   "pygments_lexer": "ipython2",
   "version": "2.7.12"
  }
 },
 "nbformat": 4,
 "nbformat_minor": 2
}
