{
 "cells": [
  {
   "cell_type": "code",
   "execution_count": 3,
   "metadata": {},
   "outputs": [],
   "source": [
    "import numpy as np\n",
    "import matplotlib.pyplot as plt\n",
    "import scipy.stats as stats"
   ]
  },
  {
   "cell_type": "code",
   "execution_count": 10,
   "metadata": {},
   "outputs": [],
   "source": [
    "# Question 4 - Essential Background"
   ]
  },
  {
   "cell_type": "code",
   "execution_count": 52,
   "metadata": {},
   "outputs": [
    {
     "name": "stdout",
     "output_type": "stream",
     "text": [
      "0.666666666667\n",
      "0.66724\n"
     ]
    }
   ],
   "source": [
    "print 4.0/6.0\n",
    "\n",
    "ntries = 100000.0\n",
    "epsilon = 0.001\n",
    "def rollDice():\n",
    "    roll = np.random.randint(1,7)\n",
    "    return roll\n",
    "\n",
    "x = 0\n",
    "prev_prob = 100.0\n",
    "current_prob = 100.0\n",
    "list = [0 , 0]\n",
    "while x < ntries:\n",
    "    \n",
    "    result = rollDice()\n",
    "    if (result % 2 == 0) :\n",
    "        list[0] = list[0] + 1\n",
    "    elif (result % 3 == 0) :\n",
    "        list[1] = list[1] + 1\n",
    "    x+=1\n",
    "    current_prob = (list[0]/ntries + list[1]/ntries)\n",
    "    \n",
    "print current_prob\n"
   ]
  },
  {
   "cell_type": "code",
   "execution_count": 1,
   "metadata": {},
   "outputs": [],
   "source": [
    "# Question 3 - Disrete Time Event SImulation"
   ]
  },
  {
   "cell_type": "code",
   "execution_count": 23,
   "metadata": {},
   "outputs": [
    {
     "name": "stdout",
     "output_type": "stream",
     "text": [
      "[0, 10, 38, 10, 41, 20, 20, 48, 3, 41, 33, 9, 40, 40, 15]\n",
      "[33, 81, 116, 152, 192, 225, 260, 295, 342, 363, 389, 426, 468, 511, 544]\n",
      "[0, 23, 33, 58, 53, 73, 86, 73, 105, 111, 99, 116, 113, 115, 143]\n",
      "545\n",
      "545\n",
      "('Average Interarrival Time:  ', 24.533333333333335)\n",
      "('Average Queue Length:  ', 3.2018348623853212)\n"
     ]
    },
    {
     "ename": "TypeError",
     "evalue": "Axis must be specified when shapes of a and weights differ.",
     "output_type": "error",
     "traceback": [
      "\u001b[0;31m---------------------------------------------------------------------------\u001b[0m",
      "\u001b[0;31mTypeError\u001b[0m                                 Traceback (most recent call last)",
      "\u001b[0;32m<ipython-input-23-959416fb853f>\u001b[0m in \u001b[0;36m<module>\u001b[0;34m()\u001b[0m\n\u001b[1;32m     97\u001b[0m \u001b[0;32mprint\u001b[0m \u001b[0;34m(\u001b[0m\u001b[0;34m\"Average Interarrival Time:  \"\u001b[0m\u001b[0;34m,\u001b[0m\u001b[0mreduce\u001b[0m\u001b[0;34m(\u001b[0m\u001b[0;32mlambda\u001b[0m \u001b[0mx\u001b[0m\u001b[0;34m,\u001b[0m \u001b[0my\u001b[0m\u001b[0;34m:\u001b[0m \u001b[0mx\u001b[0m \u001b[0;34m+\u001b[0m \u001b[0my\u001b[0m\u001b[0;34m,\u001b[0m \u001b[0miat\u001b[0m\u001b[0;34m)\u001b[0m \u001b[0;34m/\u001b[0m \u001b[0mfloat\u001b[0m\u001b[0;34m(\u001b[0m\u001b[0mlen\u001b[0m\u001b[0;34m(\u001b[0m\u001b[0miat\u001b[0m\u001b[0;34m)\u001b[0m\u001b[0;34m)\u001b[0m\u001b[0;34m)\u001b[0m\u001b[0;34m\u001b[0m\u001b[0m\n\u001b[1;32m     98\u001b[0m \u001b[0;32mprint\u001b[0m \u001b[0;34m(\u001b[0m\u001b[0;34m\"Average Queue Length:  \"\u001b[0m\u001b[0;34m,\u001b[0m\u001b[0mreduce\u001b[0m\u001b[0;34m(\u001b[0m\u001b[0;32mlambda\u001b[0m \u001b[0mx\u001b[0m\u001b[0;34m,\u001b[0m \u001b[0my\u001b[0m\u001b[0;34m:\u001b[0m \u001b[0mx\u001b[0m \u001b[0;34m+\u001b[0m \u001b[0my\u001b[0m\u001b[0;34m,\u001b[0m \u001b[0mjobs_in_system\u001b[0m\u001b[0;34m)\u001b[0m \u001b[0;34m/\u001b[0m \u001b[0mfloat\u001b[0m\u001b[0;34m(\u001b[0m\u001b[0mlen\u001b[0m\u001b[0;34m(\u001b[0m\u001b[0mjobs_in_system\u001b[0m\u001b[0;34m)\u001b[0m\u001b[0;34m)\u001b[0m\u001b[0;34m)\u001b[0m\u001b[0;34m\u001b[0m\u001b[0m\n\u001b[0;32m---> 99\u001b[0;31m \u001b[0;32mprint\u001b[0m \u001b[0;34m(\u001b[0m\u001b[0;34m\"Average Delay Time:  \"\u001b[0m\u001b[0;34m,\u001b[0m\u001b[0mnp\u001b[0m\u001b[0;34m.\u001b[0m\u001b[0maverage\u001b[0m\u001b[0;34m(\u001b[0m\u001b[0md\u001b[0m\u001b[0;34m,\u001b[0m \u001b[0mweights\u001b[0m \u001b[0;34m=\u001b[0m \u001b[0mtime\u001b[0m\u001b[0;34m)\u001b[0m\u001b[0;34m)\u001b[0m\u001b[0;34m\u001b[0m\u001b[0m\n\u001b[0m",
      "\u001b[0;32m/usr/lib/python2.7/dist-packages/numpy/lib/function_base.pyc\u001b[0m in \u001b[0;36maverage\u001b[0;34m(a, axis, weights, returned)\u001b[0m\n\u001b[1;32m    931\u001b[0m             \u001b[0;32mif\u001b[0m \u001b[0maxis\u001b[0m \u001b[0;32mis\u001b[0m \u001b[0mNone\u001b[0m\u001b[0;34m:\u001b[0m\u001b[0;34m\u001b[0m\u001b[0m\n\u001b[1;32m    932\u001b[0m                 raise TypeError(\n\u001b[0;32m--> 933\u001b[0;31m                     \u001b[0;34m\"Axis must be specified when shapes of a and weights \"\u001b[0m\u001b[0;34m\u001b[0m\u001b[0m\n\u001b[0m\u001b[1;32m    934\u001b[0m                     \"differ.\")\n\u001b[1;32m    935\u001b[0m             \u001b[0;32mif\u001b[0m \u001b[0mwgt\u001b[0m\u001b[0;34m.\u001b[0m\u001b[0mndim\u001b[0m \u001b[0;34m!=\u001b[0m \u001b[0;36m1\u001b[0m\u001b[0;34m:\u001b[0m\u001b[0;34m\u001b[0m\u001b[0m\n",
      "\u001b[0;31mTypeError\u001b[0m: Axis must be specified when shapes of a and weights differ."
     ]
    },
    {
     "data": {
      "image/png": "[encoded data removed]",
      "text/plain": [
       "<matplotlib.figure.Figure at 0x7f4ef59e0450>"
      ]
     },
     "metadata": {},
     "output_type": "display_data"
    },
    {
     "data": {
      "image/png": "[encoded data removed]",
      "text/plain": [
       "<matplotlib.figure.Figure at 0x7f4ef546f890>"
      ]
     },
     "metadata": {},
     "output_type": "display_data"
    }
   ],
   "source": [
    "#arrival time\n",
    "a_i = [0, 10, 48, 58, 99, 119, 139, 187, 190, 231, 264, 273, 313, 353, 368]\n",
    "\n",
    "#service time\n",
    "s_i = [33, 48, 35, 36, 40, 33, 35, 35, 47, 21, 26, 37, 42, 43, 33, 39]\n",
    "\n",
    "i = 0\n",
    "\n",
    "#b\n",
    "iat = []\n",
    "\n",
    "while i < 15:\n",
    "    if (i == 0):\n",
    "        iat.append(a_i[i])\n",
    "    else:\n",
    "        iat.append(a_i[i] - a_i[i-1])\n",
    "    i+=1\n",
    "\n",
    "j = 0\n",
    "c = []\n",
    "d = []\n",
    "while j < len(a_i):\n",
    "    if (j == 0):\n",
    "        d.append(a_i[0])\n",
    "        c.append(a_i[0]+s_i[0])\n",
    "    elif (a_i[j] >= c[j-1]):\n",
    "        d.append(0)\n",
    "        c.append(a_i[j]+s_i[j])\n",
    "    else:\n",
    "        d.append(c[j-1] - a_i[j])\n",
    "        c.append(a_i[j]+d[j]+s_i[j])\n",
    "    j+=1\n",
    "    \n",
    "print iat #interarrival time between two arrivals\n",
    "print c #time spent before completion\n",
    "print d #time spent waiting to start service\n",
    "\n",
    "#c\n",
    "cumulative_arrivals = []\n",
    "cumulative_departures = []\n",
    "\n",
    "#max time \n",
    "maximum_val = max(max(a_i),max(c))\n",
    "\n",
    "#constructing time axis\n",
    "time = []\n",
    "t = 0\n",
    "while(t <= maximum_val):\n",
    "    time.append(t)\n",
    "    t+=1\n",
    "\n",
    "a = 0\n",
    "counter_arrivals = 0\n",
    "counter_departures = 0\n",
    "while a <= maximum_val:\n",
    "    if (a in a_i):\n",
    "        counter_arrivals+=1\n",
    "        cumulative_arrivals.append(counter_arrivals)\n",
    "    else: \n",
    "        cumulative_arrivals.append(counter_arrivals)\n",
    "    \n",
    "    if (a in c):\n",
    "        counter_departures+=1\n",
    "        cumulative_departures.append(counter_departures)\n",
    "    else: \n",
    "        cumulative_departures.append(counter_departures)\n",
    "        \n",
    "    a+=1\n",
    "\n",
    "print len(cumulative_arrivals)\n",
    "print len(cumulative_departures)\n",
    "    \n",
    "#converting lists to arrays\n",
    "time = np.array(time)\n",
    "cumulative_arrivals = np.array(cumulative_arrivals)\n",
    "cumulative_departures = np.array(cumulative_departures)\n",
    "\n",
    "plt.figure()\n",
    "plt.plot(time, cumulative_arrivals,time, cumulative_departures)\n",
    "plt.legend(['Cum_Arriv','Cum_Dept'])\n",
    "plt.xlabel(\"Time\")\n",
    "plt.ylabel(\"Number of Processes\")\n",
    "        \n",
    "#d\n",
    "counter =0\n",
    "jobs_in_system = []\n",
    "while counter < len(cumulative_arrivals):\n",
    "        jobs_in_system.append(cumulative_arrivals[counter] - cumulative_departures[counter])\n",
    "        counter+=1\n",
    "\n",
    "plt.figure()\n",
    "plt.plot(time, jobs_in_system)\n",
    "plt.legend(['Jobs in System'])\n",
    "plt.xlabel(\"Time\")\n",
    "plt.ylabel(\"Number of Processes\")\n",
    "\n",
    "print (\"Average Interarrival Time:  \",reduce(lambda x, y: x + y, iat) / float(len(iat)))\n",
    "print (\"Average Queue Length:  \",reduce(lambda x, y: x + y, jobs_in_system) / float(len(jobs_in_system)))\n",
    "# ask lecturer -- print (\"Average Delay Time:  \",np.average(d, weights = time)) and for part e and f"
   ]
  },
  {
   "cell_type": "code",
   "execution_count": null,
   "metadata": {},
   "outputs": [],
   "source": []
  },
  {
   "cell_type": "code",
   "execution_count": null,
   "metadata": {},
   "outputs": [],
   "source": []
  },
  {
   "cell_type": "code",
   "execution_count": null,
   "metadata": {},
   "outputs": [],
   "source": []
  }
 ],
 "metadata": {
  "kernelspec": {
   "display_name": "Python 2",
   "language": "python",
   "name": "python2"
  },
  "language_info": {
   "codemirror_mode": {
    "name": "ipython",
    "version": 2
   },
   "file_extension": ".py",
   "mimetype": "text/x-python",
   "name": "python",
   "nbconvert_exporter": "python",
   "pygments_lexer": "ipython2",
   "version": "2.7.12"
  }
 },
 "nbformat": 4,
 "nbformat_minor": 2
}
