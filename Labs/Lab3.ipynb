{
 "cells": [
  {
   "cell_type": "code",
   "execution_count": 1,
   "metadata": {},
   "outputs": [],
   "source": [
    "#Create a next event simulation for a single server queue"
   ]
  },
  {
   "cell_type": "code",
   "execution_count": 2,
   "metadata": {},
   "outputs": [],
   "source": [
    "import numpy as np\n",
    "import matplotlib.pyplot as plt\n",
    "import scipy.stats as stats\n",
    "import time"
   ]
  },
  {
   "cell_type": "code",
   "execution_count": 1,
   "metadata": {},
   "outputs": [
    {
     "name": "stdout",
     "output_type": "stream",
     "text": [
      "[(0, 0)]\n",
      "[(1, 0), (0, 0.5)]\n",
      "[(0, 0.5), (2, 1.0)]\n",
      "[(2, 1.0), (0, 1.9)]\n",
      "[(1, 1.0), (0, 1.9)]\n",
      "[(2, 1.2), (0, 1.9)]\n",
      "[(0, 1.9)]\n",
      "[(1, 1.9), (0, 2.0)]\n",
      "[(0, 2.0), (2, 2.7)]\n",
      "[(2, 2.7), (0, 3.7)]\n",
      "[(1, 2.7), (0, 3.7)]\n",
      "[(2, 3.5), (0, 3.7)]\n",
      "[(0, 3.7)]\n",
      "[(1, 3.7), (0, 4.5)]\n",
      "[(2, 4.1000000000000005), (0, 4.5)]\n",
      "[(0, 4.5)]\n",
      "[(1, 4.5), (0, 4.6)]\n",
      "[(0, 4.6), (2, 5.0)]\n",
      "[(0, 4.699999999999999), (2, 5.0)]\n",
      "[(2, 5.0), (0, 7.299999999999999)]\n",
      "[(1, 5.0), (0, 7.299999999999999)]\n",
      "[(2, 5.4), (0, 7.299999999999999)]\n",
      "[(1, 5.4), (0, 7.299999999999999)]\n",
      "[(0, 7.299999999999999), (2, 8.0)]\n",
      "[(2, 8.0), (0, 10.799999999999999)]\n",
      "[(1, 8.0), (0, 10.799999999999999)]\n",
      "[(2, 8.5), (0, 10.799999999999999)]\n",
      "[(0, 10.799999999999999)]\n",
      "[(1, 10.799999999999999), (0, 10.999999999999998)]\n",
      "[(2, 10.799999999999999), (0, 10.999999999999998)]\n",
      "[(0, 10.999999999999998)]\n"
     ]
    }
   ],
   "source": [
    "# General Definitions\n",
    "# Arrival = 0\n",
    "# Begin Service = 1\n",
    "# End Service = 2\n",
    "\n",
    "#list that contains arrival times (for dry run purposes)\n",
    "interarrival = [0.5, 1.4, 0.1, 1.7, 0.8, 0.1, 0.1, 2.6, 3.5, 0.2]\n",
    "\n",
    "#list that contains service times (for dry run purposes)\n",
    "service = [1.0, 0.2, 0.8, 0.8, 0.4, 0.5, 0.4, 2.6, 0.5, 0]\n",
    "\n",
    "#list that contains events\n",
    "event_list = [(0,0)]\n",
    "\n",
    "#when 0 - idle , when 1 - busy - Server_state\n",
    "S = 0\n",
    "\n",
    "#size of queue\n",
    "Q = 0\n",
    "\n",
    "#System clock\n",
    "Now = 0\n",
    "\n",
    "#Simulation running\n",
    "sim_run = True\n",
    "\n",
    "def get_iat():\n",
    "    global interarrival\n",
    "    return interarrival.pop(0)\n",
    "\n",
    "def get_service():\n",
    "    global service\n",
    "    return service.pop(0)\n",
    "\n",
    "def schedule(type_of_event,time_of_event):\n",
    "    global event_list\n",
    "    event_list.append((type_of_event, time_of_event))\n",
    "    event_list = sorted(event_list, key=lambda x: x[1])\n",
    "    \n",
    "def arrival():\n",
    "    global Q\n",
    "    global S\n",
    "    Q = Q+1\n",
    "    if(len(interarrival)!=0):\n",
    "        schedule(0, Now + get_iat())\n",
    "        if (S==0):\n",
    "            schedule(1,Now)\n",
    "             \n",
    "def start_service():\n",
    "    global Q\n",
    "    global S\n",
    "    Q = Q-1\n",
    "    S = 1\n",
    "    if(len(service)!=0):\n",
    "        schedule(2,Now+get_service())\n",
    "             \n",
    "def end_service():\n",
    "    global Q\n",
    "    global S\n",
    "    S = 0\n",
    "    if (Q > 0):\n",
    "        schedule(1,Now)\n",
    "\n",
    "#General clock\n",
    "while(len(event_list)!=0 and Now < 1000):\n",
    "    print event_list\n",
    "    current_event = event_list.pop(0)\n",
    "    \n",
    "    Now = current_event[1]\n",
    "             \n",
    "    if(current_event[0]==0):\n",
    "        arrival()\n",
    "    elif(current_event[0]==1):\n",
    "        start_service()\n",
    "    elif(current_event[0]==2):\n",
    "        end_service()\n"
   ]
  },
  {
   "cell_type": "code",
   "execution_count": null,
   "metadata": {},
   "outputs": [],
   "source": [
    "print get_iat()"
   ]
  },
  {
   "cell_type": "code",
   "execution_count": null,
   "metadata": {},
   "outputs": [],
   "source": [
    "print arrival"
   ]
  },
  {
   "cell_type": "code",
   "execution_count": null,
   "metadata": {},
   "outputs": [],
   "source": []
  }
 ],
 "metadata": {
  "kernelspec": {
   "display_name": "Python 2",
   "language": "python",
   "name": "python2"
  },
  "language_info": {
   "codemirror_mode": {
    "name": "ipython",
    "version": 2
   },
   "file_extension": ".py",
   "mimetype": "text/x-python",
   "name": "python",
   "nbconvert_exporter": "python",
   "pygments_lexer": "ipython2",
   "version": "2.7.12"
  }
 },
 "nbformat": 4,
 "nbformat_minor": 2
}
