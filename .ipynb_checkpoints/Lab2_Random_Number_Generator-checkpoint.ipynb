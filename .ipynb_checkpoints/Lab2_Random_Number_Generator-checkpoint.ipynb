{
 "cells": [
  {
   "cell_type": "code",
   "execution_count": 2,
   "metadata": {},
   "outputs": [],
   "source": [
    "import numpy as np \n",
    "import matplotlib.pyplot as plt\n",
    "import scipy.stats as stats\n",
    "import math\n",
    "import time"
   ]
  },
  {
   "cell_type": "code",
   "execution_count": 11,
   "metadata": {},
   "outputs": [
    {
     "name": "stdout",
     "output_type": "stream",
     "text": [
      "0.441807283637\n"
     ]
    }
   ],
   "source": [
    "#b)\n",
    "def random_AIM():\n",
    "    return math.sqrt(np.random.uniform(0,1))\n",
    "\n",
    "print random_AIM()"
   ]
  },
  {
   "cell_type": "code",
   "execution_count": 4,
   "metadata": {},
   "outputs": [
    {
     "name": "stdout",
     "output_type": "stream",
     "text": [
      "0.713702857268\n"
     ]
    }
   ],
   "source": [
    "#c)\n",
    "def random_ARM():\n",
    "    u = np.random.uniform(0,1)\n",
    "    v = np.random.uniform(0,2.1)\n",
    "    if(v < 2*u):\n",
    "        return u\n",
    "    else: return random_ARM()\n",
    "    \n",
    "print random_ARM()"
   ]
  },
  {
   "cell_type": "markdown",
   "metadata": {},
   "source": [
    "The ARM algorithm takes longer to compute since it has 2 random number generations not one, and it also includes comparison logic. While AIM has only one random number generation and a the computation of the square root only. So AIM should be faster. "
   ]
  },
  {
   "cell_type": "code",
   "execution_count": 7,
   "metadata": {},
   "outputs": [],
   "source": [
    "ARM_avg_list = [] \n",
    "AIM_avg_list = [] \n",
    "\n",
    "for n in range(0,100):\n",
    "    start_time_ARM = time.clock()\n",
    "    \n",
    "    for f in range(0,10000):\n",
    "        random_ARM()\n",
    "    \n",
    "    stop_time_ARM = time.clock()\n",
    "    \n",
    "    average_ARM = (stop_time_ARM - start_time_ARM)/10000\n",
    "    \n",
    "    ARM_avg_list.append(average_ARM)\n",
    "\n",
    "for n in range(0,100):\n",
    "    start_time_AIM = time.clock()\n",
    "    \n",
    "    for f in range(0,10000):\n",
    "        random_AIM()\n",
    "    \n",
    "    stop_time_AIM = time.clock()\n",
    "    \n",
    "    average_AIM = (stop_time_ARM - start_time_ARM)/10000\n",
    "    \n",
    "    AIM_avg_list.append(average_AIM)"
   ]
  },
  {
   "cell_type": "code",
   "execution_count": null,
   "metadata": {},
   "outputs": [],
   "source": []
  }
 ],
 "metadata": {
  "kernelspec": {
   "display_name": "Python 2",
   "language": "python",
   "name": "python2"
  },
  "language_info": {
   "codemirror_mode": {
    "name": "ipython",
    "version": 2
   },
   "file_extension": ".py",
   "mimetype": "text/x-python",
   "name": "python",
   "nbconvert_exporter": "python",
   "pygments_lexer": "ipython2",
   "version": "2.7.12"
  }
 },
 "nbformat": 4,
 "nbformat_minor": 2
}
